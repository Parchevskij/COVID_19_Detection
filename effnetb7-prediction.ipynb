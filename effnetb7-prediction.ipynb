{
 "cells": [
  {
   "cell_type": "code",
   "execution_count": 1,
   "id": "969f2be2",
   "metadata": {
    "_cell_guid": "b1076dfc-b9ad-4769-8c92-a6c4dae69d19",
    "_uuid": "8f2839f25d086af736a60e9eeb907d3b93b6e0e5",
    "execution": {
     "iopub.execute_input": "2021-08-10T10:31:14.306145Z",
     "iopub.status.busy": "2021-08-10T10:31:14.305423Z",
     "iopub.status.idle": "2021-08-10T10:31:40.112654Z",
     "shell.execute_reply": "2021-08-10T10:31:40.113130Z",
     "shell.execute_reply.started": "2021-08-10T09:12:15.335256Z"
    },
    "papermill": {
     "duration": 25.867098,
     "end_time": "2021-08-10T10:31:40.113423",
     "exception": false,
     "start_time": "2021-08-10T10:31:14.246325",
     "status": "completed"
    },
    "tags": []
   },
   "outputs": [
    {
     "name": "stdout",
     "output_type": "stream",
     "text": [
      "gdcm/\r\n",
      "gdcm/conda-4.8.4-py37hc8dfbb8_2.tar.bz2\r\n",
      "gdcm/gdcm-2.8.9-py37h71b2a6d_0.tar.bz2\r\n",
      "gdcm/libjpeg-turbo-2.0.3-h516909a_1.tar.bz2\r\n",
      "\r\n",
      "Downloading and Extracting Packages\r\n",
      "######################################################################## | 100% \r\n",
      "Preparing transaction: - \b\bdone\r\n",
      "Verifying transaction: | \b\b/ \b\bdone\r\n",
      "Executing transaction: \\ \b\bdone\r\n"
     ]
    }
   ],
   "source": [
    "!cp /kaggle/input/gdcm-conda-install/gdcm.tar .\n",
    "!tar -xvzf gdcm.tar\n",
    "!conda install --offline ./gdcm/gdcm-2.8.9-py37h71b2a6d_0.tar.bz2\n",
    "!rm -rf ./gdcm.tar"
   ]
  },
  {
   "cell_type": "code",
   "execution_count": 2,
   "id": "e06dcb9b",
   "metadata": {
    "execution": {
     "iopub.execute_input": "2021-08-10T10:31:40.238298Z",
     "iopub.status.busy": "2021-08-10T10:31:40.227909Z",
     "iopub.status.idle": "2021-08-10T10:39:41.086175Z",
     "shell.execute_reply": "2021-08-10T10:39:41.086653Z",
     "shell.execute_reply.started": "2021-08-10T09:12:40.187766Z"
    },
    "papermill": {
     "duration": 480.928127,
     "end_time": "2021-08-10T10:39:41.086821",
     "exception": false,
     "start_time": "2021-08-10T10:31:40.158694",
     "status": "completed"
    },
    "tags": []
   },
   "outputs": [
    {
     "name": "stdout",
     "output_type": "stream",
     "text": [
      "Processing /kaggle/input/pytorch-170-cuda-toolkit-110221/torch-1.7.0+cu110-cp37-cp37m-linux_x86_64.whl\r\n",
      "Installing collected packages: torch\r\n",
      "  Attempting uninstall: torch\r\n",
      "    Found existing installation: torch 1.7.0\r\n",
      "    Uninstalling torch-1.7.0:\r\n",
      "      Successfully uninstalled torch-1.7.0\r\n",
      "Successfully installed torch-1.7.0+cu110\r\n",
      "\u001b[33mWARNING: Running pip as root will break packages and permissions. You should install packages reliably by using venv: https://pip.pypa.io/warnings/venv\u001b[0m\r\n",
      "Processing /kaggle/input/pytorch-170-cuda-toolkit-110221/torchvision-0.8.1+cu110-cp37-cp37m-linux_x86_64.whl\r\n",
      "Installing collected packages: torchvision\r\n",
      "  Attempting uninstall: torchvision\r\n",
      "    Found existing installation: torchvision 0.8.1\r\n",
      "    Uninstalling torchvision-0.8.1:\r\n",
      "      Successfully uninstalled torchvision-0.8.1\r\n",
      "Successfully installed torchvision-0.8.1+cu110\r\n",
      "\u001b[33mWARNING: Running pip as root will break packages and permissions. You should install packages reliably by using venv: https://pip.pypa.io/warnings/venv\u001b[0m\r\n",
      "Processing /kaggle/input/pytorch-170-cuda-toolkit-110221/torchaudio-0.7.0-cp37-cp37m-linux_x86_64.whl\r\n",
      "Installing collected packages: torchaudio\r\n",
      "  Attempting uninstall: torchaudio\r\n",
      "    Found existing installation: torchaudio 0.7.0a0+ac17b64\r\n",
      "    Uninstalling torchaudio-0.7.0a0+ac17b64:\r\n",
      "      Successfully uninstalled torchaudio-0.7.0a0+ac17b64\r\n",
      "Successfully installed torchaudio-0.7.0\r\n",
      "\u001b[33mWARNING: Running pip as root will break packages and permissions. You should install packages reliably by using venv: https://pip.pypa.io/warnings/venv\u001b[0m\r\n",
      "\r\n",
      "Downloading and Extracting Packages\r\n",
      "######################################################################## | 100% \r\n",
      "Preparing transaction: - \b\bdone\r\n",
      "Verifying transaction: | \b\bdone\r\n",
      "Executing transaction: - \b\b\\ \b\b| \b\b/ \b\b- \b\b\\ \b\b| \b\b/ \b\b- \b\b\\ \b\b| \b\b/ \b\b- \b\b\\ \b\b| \b\b/ \b\b- \b\b\\ \b\b| \b\b/ \b\b- \b\b\\ \b\b| \b\b/ \b\b- \b\b\\ \b\b| \b\b/ \b\b- \b\b\\ \b\b| \b\b/ \b\b- \b\b\\ \b\b| \b\b/ \b\b- \b\b\\ \b\b| \b\b/ \b\b- \b\b\\ \b\b| \b\b/ \b\b- \b\b\\ \b\b| \b\b/ \b\b- \b\b\\ \b\b| \b\b/ \b\b- \b\b\\ \b\b| \b\b/ \b\b- \b\b\\ \b\b| \b\b/ \b\b- \b\b\\ \b\b| \b\b/ \b\b- \b\b\\ \b\b| \b\b/ \b\b- \b\b\\ \b\b| \b\b/ \b\b- \b\b\\ \b\b| \b\b/ \b\b- \b\b\\ \b\b| \b\b/ \b\b- \b\b\\ \b\b| \b\b/ \b\b- \b\b\\ \b\b| \b\b/ \b\b- \b\b\\ \b\b| \b\b/ \b\b- \b\b\\ \b\b| \b\b/ \b\b- \b\b\\ \b\b| \b\b/ \b\b- \b\b\\ \b\b| \b\b/ \b\b- \b\b\\ \b\b| \b\b/ \b\b- \b\b\\ \b\b| \b\b/ \b\b- \b\b\\ \b\b| \b\b/ \b\b- \b\b\\ \b\b| \b\b/ \b\b- \b\b\\ \b\b| \b\b/ \b\b- \b\b\\ \b\b| \b\b/ \b\b- \b\b\\ \b\b| \b\b/ \b\b- \b\b\\ \b\b| \b\b/ \b\b- \b\b\\ \b\b| \b\b/ \b\b- \b\b\\ \b\b| \b\b/ \b\b- \b\b\\ \b\b| \b\b/ \b\b- \b\b\\ \b\b| \b\b/ \b\b- \b\b\\ \b\b| \b\b/ \b\b- \b\b\\ \b\b| \b\b/ By downloading and using the CUDA Toolkit conda packages, you accept the terms and conditions of the CUDA End User License Agreement (EULA): https://docs.nvidia.com/cuda/eula/index.html\r\n",
      "\r\n",
      "\b\b- \b\bdone\r\n",
      "Processing /kaggle/input/mmdetectionv2140/addict-2.4.0-py3-none-any.whl\r\n",
      "Installing collected packages: addict\r\n",
      "Successfully installed addict-2.4.0\r\n",
      "\u001b[33mWARNING: Running pip as root will break packages and permissions. You should install packages reliably by using venv: https://pip.pypa.io/warnings/venv\u001b[0m\r\n",
      "Processing /kaggle/input/mmdetectionv2140/yapf-0.31.0-py2.py3-none-any.whl\r\n",
      "Installing collected packages: yapf\r\n",
      "Successfully installed yapf-0.31.0\r\n",
      "\u001b[33mWARNING: Running pip as root will break packages and permissions. You should install packages reliably by using venv: https://pip.pypa.io/warnings/venv\u001b[0m\r\n",
      "Processing /kaggle/input/mmdetectionv2140/terminal-0.4.0-py3-none-any.whl\r\n",
      "Installing collected packages: terminal\r\n",
      "Successfully installed terminal-0.4.0\r\n",
      "\u001b[33mWARNING: Running pip as root will break packages and permissions. You should install packages reliably by using venv: https://pip.pypa.io/warnings/venv\u001b[0m\r\n",
      "Processing /kaggle/input/mmdetectionv2140/terminaltables-3.1.0-py3-none-any.whl\r\n",
      "Installing collected packages: terminaltables\r\n",
      "Successfully installed terminaltables-3.1.0\r\n",
      "\u001b[33mWARNING: Running pip as root will break packages and permissions. You should install packages reliably by using venv: https://pip.pypa.io/warnings/venv\u001b[0m\r\n",
      "Processing /kaggle/input/mmdetectionv2140/mmcv_full-1_3_8-cu110-torch1_7_0/mmcv_full-1.3.8-cp37-cp37m-manylinux1_x86_64.whl\r\n",
      "Installing collected packages: mmcv-full\r\n",
      "Successfully installed mmcv-full-1.3.8\r\n",
      "\u001b[33mWARNING: Running pip as root will break packages and permissions. You should install packages reliably by using venv: https://pip.pypa.io/warnings/venv\u001b[0m\r\n",
      "Processing /kaggle/input/mmdetectionv2140/pycocotools-2.0.2/pycocotools-2.0.2\r\n",
      "\u001b[33m  DEPRECATION: A future pip version will change local packages to be built in-place without first copying to a temporary directory. We recommend you use --use-feature=in-tree-build to test your packages with this new behavior before it becomes the default.\r\n",
      "   pip 21.3 will remove support for this functionality. You can find discussion regarding this at https://github.com/pypa/pip/issues/7555.\u001b[0m\r\n",
      "Building wheels for collected packages: pycocotools\r\n",
      "  Building wheel for pycocotools (setup.py) ... \u001b[?25l-\b \b\\\b \b|\b \b/\b \b-\b \b\\\b \b|\b \b/\b \bdone\r\n",
      "\u001b[?25h  Created wheel for pycocotools: filename=pycocotools-2.0.2-cp37-cp37m-linux_x86_64.whl size=272448 sha256=c139e04660df4c956adc0a10164f52c1fa790119a87a3e5667ccf61f28869cb2\r\n",
      "  Stored in directory: /root/.cache/pip/wheels/3b/c9/26/f4ec5e3e2fdc837f5c5539fe16dbe35f82a358c7a4ccca98b4\r\n",
      "Successfully built pycocotools\r\n",
      "Installing collected packages: pycocotools\r\n",
      "Successfully installed pycocotools-2.0.2\r\n",
      "\u001b[33mWARNING: Running pip as root will break packages and permissions. You should install packages reliably by using venv: https://pip.pypa.io/warnings/venv\u001b[0m\r\n",
      "Processing /kaggle/input/mmdetectionv2140/mmpycocotools-12.0.3/mmpycocotools-12.0.3\r\n",
      "\u001b[33m  DEPRECATION: A future pip version will change local packages to be built in-place without first copying to a temporary directory. We recommend you use --use-feature=in-tree-build to test your packages with this new behavior before it becomes the default.\r\n",
      "   pip 21.3 will remove support for this functionality. You can find discussion regarding this at https://github.com/pypa/pip/issues/7555.\u001b[0m\r\n",
      "Building wheels for collected packages: mmpycocotools\r\n",
      "  Building wheel for mmpycocotools (setup.py) ... \u001b[?25l-\b \b\\\b \b|\b \b/\b \b-\b \b\\\b \b|\b \b/\b \bdone\r\n",
      "\u001b[?25h  Created wheel for mmpycocotools: filename=mmpycocotools-12.0.3-cp37-cp37m-linux_x86_64.whl size=272725 sha256=05d310f4089c9b057134cee3176ed3cb8af9daf5a5fd858a66f457f929529648\r\n",
      "  Stored in directory: /root/.cache/pip/wheels/6b/52/1c/2397d26e2e427dfd5555670bfb92e2882acc8a30aed0c8f890\r\n",
      "Successfully built mmpycocotools\r\n",
      "Installing collected packages: mmpycocotools\r\n",
      "Successfully installed mmpycocotools-12.0.3\r\n",
      "\u001b[33mWARNING: Running pip as root will break packages and permissions. You should install packages reliably by using venv: https://pip.pypa.io/warnings/venv\u001b[0m\r\n",
      "/kaggle/working/mmdetection\n",
      "Obtaining file:///kaggle/working/mmdetection\r\n",
      "Installing collected packages: mmdet\r\n",
      "  Running setup.py develop for mmdet\r\n",
      "Successfully installed mmdet-2.14.0\r\n",
      "\u001b[33mWARNING: Running pip as root will break packages and permissions. You should install packages reliably by using venv: https://pip.pypa.io/warnings/venv\u001b[0m\r\n",
      "/kaggle/working\n"
     ]
    }
   ],
   "source": [
    "## MMDetection compatible torch installation\n",
    "!pip install '/kaggle/input/pytorch-170-cuda-toolkit-110221/torch-1.7.0+cu110-cp37-cp37m-linux_x86_64.whl' --no-deps\n",
    "!pip install '/kaggle/input/pytorch-170-cuda-toolkit-110221/torchvision-0.8.1+cu110-cp37-cp37m-linux_x86_64.whl' --no-deps\n",
    "!pip install '/kaggle/input/pytorch-170-cuda-toolkit-110221/torchaudio-0.7.0-cp37-cp37m-linux_x86_64.whl' --no-deps\n",
    "\n",
    "## Compatible Cuda Toolkit installation\n",
    "!mkdir -p /kaggle/tmp && cp /kaggle/input/pytorch-170-cuda-toolkit-110221/cudatoolkit-11.0.221-h6bb024c_0 /kaggle/tmp/cudatoolkit-11.0.221-h6bb024c_0.tar.bz2 && conda install /kaggle/tmp/cudatoolkit-11.0.221-h6bb024c_0.tar.bz2 -y --offline\n",
    "\n",
    "## MMDetection Offline Installation\n",
    "!pip install '/kaggle/input/mmdetectionv2140/addict-2.4.0-py3-none-any.whl' --no-deps\n",
    "!pip install '/kaggle/input/mmdetectionv2140/yapf-0.31.0-py2.py3-none-any.whl' --no-deps\n",
    "!pip install '/kaggle/input/mmdetectionv2140/terminal-0.4.0-py3-none-any.whl' --no-deps\n",
    "!pip install '/kaggle/input/mmdetectionv2140/terminaltables-3.1.0-py3-none-any.whl' --no-deps\n",
    "!pip install '/kaggle/input/mmdetectionv2140/mmcv_full-1_3_8-cu110-torch1_7_0/mmcv_full-1.3.8-cp37-cp37m-manylinux1_x86_64.whl' --no-deps\n",
    "!pip install '/kaggle/input/mmdetectionv2140/pycocotools-2.0.2/pycocotools-2.0.2' --no-deps\n",
    "!pip install '/kaggle/input/mmdetectionv2140/mmpycocotools-12.0.3/mmpycocotools-12.0.3' --no-deps\n",
    "\n",
    "!cp -r /kaggle/input/mmdetectionv2140/mmdetection-2.14.0 /kaggle/working/\n",
    "!mv /kaggle/working/mmdetection-2.14.0 /kaggle/working/mmdetection\n",
    "%cd /kaggle/working/mmdetection\n",
    "!pip install -e . --no-deps\n",
    "%cd /kaggle/working/"
   ]
  },
  {
   "cell_type": "code",
   "execution_count": 3,
   "id": "3647ad80",
   "metadata": {
    "execution": {
     "iopub.execute_input": "2021-08-10T10:39:41.300636Z",
     "iopub.status.busy": "2021-08-10T10:39:41.299729Z",
     "iopub.status.idle": "2021-08-10T10:39:47.031954Z",
     "shell.execute_reply": "2021-08-10T10:39:47.030963Z",
     "shell.execute_reply.started": "2021-08-10T09:42:08.419181Z"
    },
    "papermill": {
     "duration": 5.841027,
     "end_time": "2021-08-10T10:39:47.032112",
     "exception": false,
     "start_time": "2021-08-10T10:39:41.191085",
     "status": "completed"
    },
    "tags": []
   },
   "outputs": [],
   "source": [
    "import sys\n",
    "sys.path.append('/kaggle/input/efficientnet-keras-dataset/efficientnet_kaggle')\n",
    "sys.path.append('/kaggle/input/weightedboxesfusionofficial/ensemble_boxes')\n",
    "import efficientnet.tfkeras as efn\n",
    "from ensemble_boxes_wbf import weighted_boxes_fusion"
   ]
  },
  {
   "cell_type": "code",
   "execution_count": 4,
   "id": "e2a28871",
   "metadata": {
    "execution": {
     "iopub.execute_input": "2021-08-10T10:39:47.254986Z",
     "iopub.status.busy": "2021-08-10T10:39:47.254151Z",
     "iopub.status.idle": "2021-08-10T10:39:47.593782Z",
     "shell.execute_reply": "2021-08-10T10:39:47.593275Z",
     "shell.execute_reply.started": "2021-08-10T09:33:33.125031Z"
    },
    "papermill": {
     "duration": 0.450694,
     "end_time": "2021-08-10T10:39:47.593927",
     "exception": false,
     "start_time": "2021-08-10T10:39:47.143233",
     "status": "completed"
    },
    "tags": []
   },
   "outputs": [],
   "source": [
    "import numpy as np\n",
    "import pandas as pd\n",
    "import tensorflow as tf\n",
    "from glob import glob\n",
    "import gc\n",
    "from tqdm import tqdm\n",
    "import pydicom\n",
    "from pydicom.pixel_data_handlers.util import apply_voi_lut\n",
    "from tensorflow.keras import Model, Sequential\n",
    "import cv2\n",
    "import math\n",
    "from PIL import Image\n",
    "from shutil import copytree\n",
    "import os\n",
    "from tensorflow.keras import layers"
   ]
  },
  {
   "cell_type": "code",
   "execution_count": 5,
   "id": "b07af2d3",
   "metadata": {
    "execution": {
     "iopub.execute_input": "2021-08-10T10:39:47.790500Z",
     "iopub.status.busy": "2021-08-10T10:39:47.789993Z",
     "iopub.status.idle": "2021-08-10T10:39:47.811340Z",
     "shell.execute_reply": "2021-08-10T10:39:47.810940Z",
     "shell.execute_reply.started": "2021-08-10T09:34:18.343276Z"
    },
    "papermill": {
     "duration": 0.121027,
     "end_time": "2021-08-10T10:39:47.811461",
     "exception": false,
     "start_time": "2021-08-10T10:39:47.690434",
     "status": "completed"
    },
    "tags": []
   },
   "outputs": [],
   "source": [
    "df = pd.read_csv('../input/siim-covid19-detection/sample_submission.csv')"
   ]
  },
  {
   "cell_type": "code",
   "execution_count": 6,
   "id": "3c0fa05d",
   "metadata": {
    "execution": {
     "iopub.execute_input": "2021-08-10T10:39:48.006825Z",
     "iopub.status.busy": "2021-08-10T10:39:48.006292Z",
     "iopub.status.idle": "2021-08-10T10:39:48.010128Z",
     "shell.execute_reply": "2021-08-10T10:39:48.009732Z",
     "shell.execute_reply.started": "2021-08-10T09:34:21.568458Z"
    },
    "papermill": {
     "duration": 0.103096,
     "end_time": "2021-08-10T10:39:48.010236",
     "exception": false,
     "start_time": "2021-08-10T10:39:47.907140",
     "status": "completed"
    },
    "tags": []
   },
   "outputs": [],
   "source": [
    "fast_sub = False\n",
    "if df.shape[0] == 2477:\n",
    "    fast_sub = True\n",
    "else:\n",
    "    fast_sub = False"
   ]
  },
  {
   "cell_type": "code",
   "execution_count": 7,
   "id": "8e935d05",
   "metadata": {
    "execution": {
     "iopub.execute_input": "2021-08-10T10:39:48.208919Z",
     "iopub.status.busy": "2021-08-10T10:39:48.208370Z",
     "iopub.status.idle": "2021-08-10T10:39:48.213858Z",
     "shell.execute_reply": "2021-08-10T10:39:48.213421Z",
     "shell.execute_reply.started": "2021-08-10T09:34:34.741456Z"
    },
    "papermill": {
     "duration": 0.107643,
     "end_time": "2021-08-10T10:39:48.213970",
     "exception": false,
     "start_time": "2021-08-10T10:39:48.106327",
     "status": "completed"
    },
    "tags": []
   },
   "outputs": [
    {
     "data": {
      "text/plain": [
       "True"
      ]
     },
     "execution_count": 7,
     "metadata": {},
     "output_type": "execute_result"
    }
   ],
   "source": [
    "fast_sub"
   ]
  },
  {
   "cell_type": "code",
   "execution_count": 8,
   "id": "c551be49",
   "metadata": {
    "execution": {
     "iopub.execute_input": "2021-08-10T10:39:48.411589Z",
     "iopub.status.busy": "2021-08-10T10:39:48.411064Z",
     "iopub.status.idle": "2021-08-10T10:39:54.514365Z",
     "shell.execute_reply": "2021-08-10T10:39:54.514893Z",
     "shell.execute_reply.started": "2021-08-10T09:35:20.107844Z"
    },
    "papermill": {
     "duration": 6.20443,
     "end_time": "2021-08-10T10:39:54.515073",
     "exception": false,
     "start_time": "2021-08-10T10:39:48.310643",
     "status": "completed"
    },
    "tags": []
   },
   "outputs": [
    {
     "data": {
      "text/html": [
       "<div>\n",
       "<style scoped>\n",
       "    .dataframe tbody tr th:only-of-type {\n",
       "        vertical-align: middle;\n",
       "    }\n",
       "\n",
       "    .dataframe tbody tr th {\n",
       "        vertical-align: top;\n",
       "    }\n",
       "\n",
       "    .dataframe thead th {\n",
       "        text-align: right;\n",
       "    }\n",
       "</style>\n",
       "<table border=\"1\" class=\"dataframe\">\n",
       "  <thead>\n",
       "    <tr style=\"text-align: right;\">\n",
       "      <th></th>\n",
       "      <th>filepath</th>\n",
       "      <th>image_id</th>\n",
       "      <th>study_id</th>\n",
       "    </tr>\n",
       "  </thead>\n",
       "  <tbody>\n",
       "    <tr>\n",
       "      <th>0</th>\n",
       "      <td>/kaggle/input/siim-covid19-detection/test/2fb1...</td>\n",
       "      <td>a29c5a68b07b_image</td>\n",
       "      <td>2fb11712bc93_study</td>\n",
       "    </tr>\n",
       "    <tr>\n",
       "      <th>1</th>\n",
       "      <td>/kaggle/input/siim-covid19-detection/test/19c6...</td>\n",
       "      <td>9850b5470fd6_image</td>\n",
       "      <td>19c66935e737_study</td>\n",
       "    </tr>\n",
       "    <tr>\n",
       "      <th>2</th>\n",
       "      <td>/kaggle/input/siim-covid19-detection/test/2fc5...</td>\n",
       "      <td>8d6dea06a032_image</td>\n",
       "      <td>2fc50bf199cd_study</td>\n",
       "    </tr>\n",
       "    <tr>\n",
       "      <th>3</th>\n",
       "      <td>/kaggle/input/siim-covid19-detection/test/97c5...</td>\n",
       "      <td>dfc5c09a50bc_image</td>\n",
       "      <td>97c5d6eb413d_study</td>\n",
       "    </tr>\n",
       "    <tr>\n",
       "      <th>4</th>\n",
       "      <td>/kaggle/input/siim-covid19-detection/test/593c...</td>\n",
       "      <td>7230234e120a_image</td>\n",
       "      <td>593c3f815635_study</td>\n",
       "    </tr>\n",
       "  </tbody>\n",
       "</table>\n",
       "</div>"
      ],
      "text/plain": [
       "                                            filepath            image_id  \\\n",
       "0  /kaggle/input/siim-covid19-detection/test/2fb1...  a29c5a68b07b_image   \n",
       "1  /kaggle/input/siim-covid19-detection/test/19c6...  9850b5470fd6_image   \n",
       "2  /kaggle/input/siim-covid19-detection/test/2fc5...  8d6dea06a032_image   \n",
       "3  /kaggle/input/siim-covid19-detection/test/97c5...  dfc5c09a50bc_image   \n",
       "4  /kaggle/input/siim-covid19-detection/test/593c...  7230234e120a_image   \n",
       "\n",
       "             study_id  \n",
       "0  2fb11712bc93_study  \n",
       "1  19c66935e737_study  \n",
       "2  2fc50bf199cd_study  \n",
       "3  97c5d6eb413d_study  \n",
       "4  593c3f815635_study  "
      ]
     },
     "execution_count": 8,
     "metadata": {},
     "output_type": "execute_result"
    }
   ],
   "source": [
    "filepaths = glob('/kaggle/input/siim-covid19-detection/test/**/*dcm',recursive=True)\n",
    "if fast_sub:\n",
    "    filepaths = filepaths[:5]\n",
    "test_df = pd.DataFrame(data={'filepath': filepaths})\n",
    "test_df['image_id'] = test_df.filepath.map(lambda x: x.split('/')[-1].replace('.dcm', '')+'_image')\n",
    "test_df['study_id'] = test_df.filepath.map(lambda x: x.split('/')[-3].replace('.dcm', '')+'_study')\n",
    "test_df"
   ]
  },
  {
   "cell_type": "code",
   "execution_count": 9,
   "id": "5711f8d8",
   "metadata": {
    "execution": {
     "iopub.execute_input": "2021-08-10T10:39:54.752915Z",
     "iopub.status.busy": "2021-08-10T10:39:54.751489Z",
     "iopub.status.idle": "2021-08-10T10:39:54.754009Z",
     "shell.execute_reply": "2021-08-10T10:39:54.754578Z",
     "shell.execute_reply.started": "2021-08-10T09:36:04.457104Z"
    },
    "papermill": {
     "duration": 0.130982,
     "end_time": "2021-08-10T10:39:54.754724",
     "exception": false,
     "start_time": "2021-08-10T10:39:54.623742",
     "status": "completed"
    },
    "tags": []
   },
   "outputs": [],
   "source": [
    "def image_process(image_array, image_size=(600, 600)):\n",
    "    image = tf.cast(image_array, tf.float32) / 255.\n",
    "    image = tf.image.resize(image, image_size)\n",
    "    return image"
   ]
  },
  {
   "cell_type": "code",
   "execution_count": 10,
   "id": "f5a458aa",
   "metadata": {
    "execution": {
     "iopub.execute_input": "2021-08-10T10:39:54.970725Z",
     "iopub.status.busy": "2021-08-10T10:39:54.970156Z",
     "iopub.status.idle": "2021-08-10T10:39:54.974127Z",
     "shell.execute_reply": "2021-08-10T10:39:54.973697Z",
     "shell.execute_reply.started": "2021-08-10T09:36:07.281664Z"
    },
    "papermill": {
     "duration": 0.110128,
     "end_time": "2021-08-10T10:39:54.974240",
     "exception": false,
     "start_time": "2021-08-10T10:39:54.864112",
     "status": "completed"
    },
    "tags": []
   },
   "outputs": [],
   "source": [
    "def apply_augmentation(image):\n",
    "    image = tf.image.random_flip_up_down(image)\n",
    "    image = tf.image.random_flip_left_right(image)\n",
    "    return image"
   ]
  },
  {
   "cell_type": "code",
   "execution_count": 11,
   "id": "d01e91d0",
   "metadata": {
    "execution": {
     "iopub.execute_input": "2021-08-10T10:39:55.188111Z",
     "iopub.status.busy": "2021-08-10T10:39:55.186839Z",
     "iopub.status.idle": "2021-08-10T10:39:55.189677Z",
     "shell.execute_reply": "2021-08-10T10:39:55.189235Z",
     "shell.execute_reply.started": "2021-08-10T09:36:09.846690Z"
    },
    "papermill": {
     "duration": 0.113219,
     "end_time": "2021-08-10T10:39:55.189791",
     "exception": false,
     "start_time": "2021-08-10T10:39:55.076572",
     "status": "completed"
    },
    "tags": []
   },
   "outputs": [],
   "source": [
    "def dicom2array(path, voi_lut=True, fix_monochrome=True, yolo=False):\n",
    "    dicom = pydicom.read_file(path)\n",
    "    if voi_lut:\n",
    "        data = apply_voi_lut(dicom.pixel_array, dicom)\n",
    "    else:\n",
    "        data = dicom.pixel_array\n",
    "    if fix_monochrome and dicom.PhotometricInterpretation == \"MONOCHROME1\":\n",
    "        data = np.amax(data) - data\n",
    "    data = data - np.min(data)\n",
    "    data = data / np.max(data)\n",
    "    data = (data * 255).astype(np.uint8)\n",
    "    if yolo:\n",
    "        return data\n",
    "    image = cv2.cvtColor(data, cv2.COLOR_GRAY2RGB)\n",
    "    return image"
   ]
  },
  {
   "cell_type": "code",
   "execution_count": 12,
   "id": "73a3140f",
   "metadata": {
    "execution": {
     "iopub.execute_input": "2021-08-10T10:39:55.400444Z",
     "iopub.status.busy": "2021-08-10T10:39:55.399938Z",
     "iopub.status.idle": "2021-08-10T10:39:55.403733Z",
     "shell.execute_reply": "2021-08-10T10:39:55.403273Z",
     "shell.execute_reply.started": "2021-08-10T09:41:56.882237Z"
    },
    "papermill": {
     "duration": 0.109644,
     "end_time": "2021-08-10T10:39:55.403835",
     "exception": false,
     "start_time": "2021-08-10T10:39:55.294191",
     "status": "completed"
    },
    "tags": []
   },
   "outputs": [],
   "source": [
    "BATCH_SIZE = 5 if fast_sub else 32"
   ]
  },
  {
   "cell_type": "code",
   "execution_count": 13,
   "id": "a86561cf",
   "metadata": {
    "execution": {
     "iopub.execute_input": "2021-08-10T10:39:55.612979Z",
     "iopub.status.busy": "2021-08-10T10:39:55.612307Z",
     "iopub.status.idle": "2021-08-10T10:39:55.615603Z",
     "shell.execute_reply": "2021-08-10T10:39:55.616080Z",
     "shell.execute_reply.started": "2021-08-10T09:41:59.507489Z"
    },
    "papermill": {
     "duration": 0.110267,
     "end_time": "2021-08-10T10:39:55.616212",
     "exception": false,
     "start_time": "2021-08-10T10:39:55.505945",
     "status": "completed"
    },
    "tags": []
   },
   "outputs": [],
   "source": [
    "class TestDataGenerator(tf.keras.utils.Sequence):\n",
    "    def __init__(self, image_paths, TTA=None, batch_size=BATCH_SIZE):\n",
    "        self.image_paths = image_paths\n",
    "        self.batch_size = BATCH_SIZE\n",
    "        self.TTA = TTA\n",
    "        \n",
    "    def __len__(self):\n",
    "        return math.ceil(len(self.image_paths) / self.batch_size)\n",
    "    \n",
    "    def __getitem__(self, indx):\n",
    "        images = self.image_paths[indx*self.batch_size:(indx+1)*self.batch_size]\n",
    "        images_batch = np.array(list(map(dicom2array, images)))\n",
    "        images_batch = np.array(list(map(image_process, images_batch)))\n",
    "        if self.TTA:\n",
    "            images_batch = np.array(list(map(apply_augmentation, images_batch)))\n",
    "        return images_batch"
   ]
  },
  {
   "cell_type": "code",
   "execution_count": 14,
   "id": "a4ed131b",
   "metadata": {
    "execution": {
     "iopub.execute_input": "2021-08-10T10:39:55.819229Z",
     "iopub.status.busy": "2021-08-10T10:39:55.818741Z",
     "iopub.status.idle": "2021-08-10T10:40:09.420487Z",
     "shell.execute_reply": "2021-08-10T10:40:09.419610Z",
     "shell.execute_reply.started": "2021-08-10T09:42:29.549275Z"
    },
    "papermill": {
     "duration": 13.70508,
     "end_time": "2021-08-10T10:40:09.420646",
     "exception": false,
     "start_time": "2021-08-10T10:39:55.715566",
     "status": "completed"
    },
    "tags": []
   },
   "outputs": [],
   "source": [
    "model = tf.keras.Sequential([\n",
    "    efn.EfficientNetB7(\n",
    "        input_shape=(600, 600, 3),\n",
    "        weights='imagenet',\n",
    "        include_top=False),\n",
    "    tf.keras.layers.GlobalAveragePooling2D(),\n",
    "    tf.keras.layers.Dense(4, activation='softmax')\n",
    "])"
   ]
  },
  {
   "cell_type": "code",
   "execution_count": 15,
   "id": "a871ccda",
   "metadata": {
    "execution": {
     "iopub.execute_input": "2021-08-10T10:40:09.619557Z",
     "iopub.status.busy": "2021-08-10T10:40:09.618323Z",
     "iopub.status.idle": "2021-08-10T10:40:09.621141Z",
     "shell.execute_reply": "2021-08-10T10:40:09.620729Z",
     "shell.execute_reply.started": "2021-08-10T09:42:46.445024Z"
    },
    "papermill": {
     "duration": 0.103213,
     "end_time": "2021-08-10T10:40:09.621253",
     "exception": false,
     "start_time": "2021-08-10T10:40:09.518040",
     "status": "completed"
    },
    "tags": []
   },
   "outputs": [],
   "source": [
    "test_dataset = TestDataGenerator(filepaths)"
   ]
  },
  {
   "cell_type": "code",
   "execution_count": 16,
   "id": "1b2562e2",
   "metadata": {
    "execution": {
     "iopub.execute_input": "2021-08-10T10:40:09.818853Z",
     "iopub.status.busy": "2021-08-10T10:40:09.818231Z",
     "iopub.status.idle": "2021-08-10T10:40:09.821817Z",
     "shell.execute_reply": "2021-08-10T10:40:09.821386Z",
     "shell.execute_reply.started": "2021-08-08T08:13:55.270226Z"
    },
    "papermill": {
     "duration": 0.103092,
     "end_time": "2021-08-10T10:40:09.821928",
     "exception": false,
     "start_time": "2021-08-10T10:40:09.718836",
     "status": "completed"
    },
    "tags": []
   },
   "outputs": [],
   "source": [
    "#model = build_model()"
   ]
  },
  {
   "cell_type": "code",
   "execution_count": 17,
   "id": "c065a913",
   "metadata": {
    "execution": {
     "iopub.execute_input": "2021-08-10T10:40:10.019569Z",
     "iopub.status.busy": "2021-08-10T10:40:10.019053Z",
     "iopub.status.idle": "2021-08-10T10:41:09.471958Z",
     "shell.execute_reply": "2021-08-10T10:41:09.471499Z",
     "shell.execute_reply.started": "2021-08-10T09:42:50.767843Z"
    },
    "papermill": {
     "duration": 59.55399,
     "end_time": "2021-08-10T10:41:09.472084",
     "exception": false,
     "start_time": "2021-08-10T10:40:09.918094",
     "status": "completed"
    },
    "tags": []
   },
   "outputs": [
    {
     "name": "stderr",
     "output_type": "stream",
     "text": [
      "  0%|          | 0/5 [00:00<?, ?it/s]/opt/conda/lib/python3.7/site-packages/ipykernel_launcher.py:12: VisibleDeprecationWarning: Creating an ndarray from ragged nested sequences (which is a list-or-tuple of lists-or-tuples-or ndarrays with different lengths or shapes) is deprecated. If you meant to do this, you must specify 'dtype=object' when creating the ndarray\n",
      "  if sys.path[0] == '':\n",
      "100%|██████████| 5/5 [00:59<00:00, 11.89s/it]\n"
     ]
    }
   ],
   "source": [
    "num_folds = 5\n",
    "predict = []\n",
    "for i in tqdm(range(num_folds)):\n",
    "    model_path = f'../input/slim-weights-effnet/model{i}.h5'\n",
    "    model.load_weights(model_path)\n",
    "    pred = model.predict(test_dataset)\n",
    "    predict.append(pred)\n",
    "    del pred \n",
    "    gc.collect()\n",
    "predictions = np.mean(predict, axis=0)"
   ]
  },
  {
   "cell_type": "code",
   "execution_count": 18,
   "id": "1f93a810",
   "metadata": {
    "execution": {
     "iopub.execute_input": "2021-08-10T10:41:09.889132Z",
     "iopub.status.busy": "2021-08-10T10:41:09.888247Z",
     "iopub.status.idle": "2021-08-10T10:41:10.051985Z",
     "shell.execute_reply": "2021-08-10T10:41:10.052397Z",
     "shell.execute_reply.started": "2021-08-10T09:43:55.819172Z"
    },
    "papermill": {
     "duration": 0.473803,
     "end_time": "2021-08-10T10:41:10.052561",
     "exception": false,
     "start_time": "2021-08-10T10:41:09.578758",
     "status": "completed"
    },
    "tags": []
   },
   "outputs": [
    {
     "data": {
      "text/plain": [
       "76587"
      ]
     },
     "execution_count": 18,
     "metadata": {},
     "output_type": "execute_result"
    }
   ],
   "source": [
    "del predict, model\n",
    "gc.collect()"
   ]
  },
  {
   "cell_type": "code",
   "execution_count": 19,
   "id": "8a9485e0",
   "metadata": {
    "execution": {
     "iopub.execute_input": "2021-08-10T10:41:10.315342Z",
     "iopub.status.busy": "2021-08-10T10:41:10.314819Z",
     "iopub.status.idle": "2021-08-10T10:41:10.318777Z",
     "shell.execute_reply": "2021-08-10T10:41:10.318343Z",
     "shell.execute_reply.started": "2021-08-08T08:50:01.335080Z"
    },
    "papermill": {
     "duration": 0.115977,
     "end_time": "2021-08-10T10:41:10.318891",
     "exception": false,
     "start_time": "2021-08-10T10:41:10.202914",
     "status": "completed"
    },
    "tags": []
   },
   "outputs": [],
   "source": [
    "#test_dataset = TestDataGenerator(test_df.filepath.tolist())"
   ]
  },
  {
   "cell_type": "code",
   "execution_count": 20,
   "id": "333b1cca",
   "metadata": {
    "execution": {
     "iopub.execute_input": "2021-08-10T10:41:10.534041Z",
     "iopub.status.busy": "2021-08-10T10:41:10.533170Z",
     "iopub.status.idle": "2021-08-10T10:41:10.536035Z",
     "shell.execute_reply": "2021-08-10T10:41:10.535538Z",
     "shell.execute_reply.started": "2021-08-08T08:50:01.341224Z"
    },
    "papermill": {
     "duration": 0.112078,
     "end_time": "2021-08-10T10:41:10.536141",
     "exception": false,
     "start_time": "2021-08-10T10:41:10.424063",
     "status": "completed"
    },
    "tags": []
   },
   "outputs": [],
   "source": [
    "#final_pred = np.mean([predictions, mt_predictions], axis=0)"
   ]
  },
  {
   "cell_type": "code",
   "execution_count": 21,
   "id": "b40369fd",
   "metadata": {
    "execution": {
     "iopub.execute_input": "2021-08-10T10:41:10.797671Z",
     "iopub.status.busy": "2021-08-10T10:41:10.796033Z",
     "iopub.status.idle": "2021-08-10T10:41:10.799993Z",
     "shell.execute_reply": "2021-08-10T10:41:10.800994Z",
     "shell.execute_reply.started": "2021-08-08T08:50:01.351053Z"
    },
    "papermill": {
     "duration": 0.157408,
     "end_time": "2021-08-10T10:41:10.801218",
     "exception": false,
     "start_time": "2021-08-10T10:41:10.643810",
     "status": "completed"
    },
    "tags": []
   },
   "outputs": [],
   "source": [
    "#mt_predictions"
   ]
  },
  {
   "cell_type": "code",
   "execution_count": 22,
   "id": "0556f764",
   "metadata": {
    "execution": {
     "iopub.execute_input": "2021-08-10T10:41:11.191052Z",
     "iopub.status.busy": "2021-08-10T10:41:11.190269Z",
     "iopub.status.idle": "2021-08-10T10:41:11.218060Z",
     "shell.execute_reply": "2021-08-10T10:41:11.217267Z",
     "shell.execute_reply.started": "2021-08-10T09:44:09.259465Z"
    },
    "papermill": {
     "duration": 0.21898,
     "end_time": "2021-08-10T10:41:11.218245",
     "exception": false,
     "start_time": "2021-08-10T10:41:10.999265",
     "status": "completed"
    },
    "tags": []
   },
   "outputs": [
    {
     "name": "stderr",
     "output_type": "stream",
     "text": [
      "100%|██████████| 5/5 [00:00<00:00, 1292.54it/s]\n"
     ]
    },
    {
     "data": {
      "text/html": [
       "<div>\n",
       "<style scoped>\n",
       "    .dataframe tbody tr th:only-of-type {\n",
       "        vertical-align: middle;\n",
       "    }\n",
       "\n",
       "    .dataframe tbody tr th {\n",
       "        vertical-align: top;\n",
       "    }\n",
       "\n",
       "    .dataframe thead th {\n",
       "        text-align: right;\n",
       "    }\n",
       "</style>\n",
       "<table border=\"1\" class=\"dataframe\">\n",
       "  <thead>\n",
       "    <tr style=\"text-align: right;\">\n",
       "      <th></th>\n",
       "      <th>id</th>\n",
       "      <th>PredictionString</th>\n",
       "    </tr>\n",
       "  </thead>\n",
       "  <tbody>\n",
       "    <tr>\n",
       "      <th>1</th>\n",
       "      <td>19c66935e737_study</td>\n",
       "      <td>negative 0.025 0 0 1 1     typical 0.748 0 0 1...</td>\n",
       "    </tr>\n",
       "    <tr>\n",
       "      <th>0</th>\n",
       "      <td>2fb11712bc93_study</td>\n",
       "      <td>negative 0.002 0 0 1 1     typical 0.948 0 0 1...</td>\n",
       "    </tr>\n",
       "    <tr>\n",
       "      <th>2</th>\n",
       "      <td>2fc50bf199cd_study</td>\n",
       "      <td>negative 0.020 0 0 1 1     typical 0.810 0 0 1...</td>\n",
       "    </tr>\n",
       "    <tr>\n",
       "      <th>4</th>\n",
       "      <td>593c3f815635_study</td>\n",
       "      <td>negative 0.001 0 0 1 1     typical 0.710 0 0 1...</td>\n",
       "    </tr>\n",
       "    <tr>\n",
       "      <th>3</th>\n",
       "      <td>97c5d6eb413d_study</td>\n",
       "      <td>negative 0.096 0 0 1 1     typical 0.608 0 0 1...</td>\n",
       "    </tr>\n",
       "  </tbody>\n",
       "</table>\n",
       "</div>"
      ],
      "text/plain": [
       "                   id                                   PredictionString\n",
       "1  19c66935e737_study  negative 0.025 0 0 1 1     typical 0.748 0 0 1...\n",
       "0  2fb11712bc93_study  negative 0.002 0 0 1 1     typical 0.948 0 0 1...\n",
       "2  2fc50bf199cd_study  negative 0.020 0 0 1 1     typical 0.810 0 0 1...\n",
       "4  593c3f815635_study  negative 0.001 0 0 1 1     typical 0.710 0 0 1...\n",
       "3  97c5d6eb413d_study  negative 0.096 0 0 1 1     typical 0.608 0 0 1..."
      ]
     },
     "execution_count": 22,
     "metadata": {},
     "output_type": "execute_result"
    }
   ],
   "source": [
    "data = {'id': test_df.study_id.tolist()}\n",
    "study_df = pd.DataFrame(data=data)\n",
    "study_df['PredictionString'] = None\n",
    "for i in tqdm(range(predictions.shape[0])):\n",
    "    study_df.loc[i, 'PredictionString'] = f'negative {predictions[i][0]:.3f} 0 0 1 1 \\\n",
    "    typical {predictions[i][1]:.3f} 0 0 1 1 \\\n",
    "    indeterminate {predictions[i][2]:.3f} 0 0 1 1 \\\n",
    "    atypical {predictions[i][3]:.3f} 0 0 1 1'\n",
    "\n",
    "study_df.sort_values(by=['id'])\n",
    "#study_df = study_df.drop_duplicates(subset=['id'])\n",
    "#image_df = pd.DataFrame({'id':test_df.image_id.tolist(),\n",
    "                        # 'PredictionString':[\"none 1 0 0 1 1\"]*len(test_df.image_id.tolist())})\n",
    "#study_df = study_df.drop_duplicates(subset=['id'])\n",
    "#final_df = pd.concat([study_df.sort_values(by=['id']), image_df])\n",
    "#final_df.to_csv('submission.csv', index=False)"
   ]
  },
  {
   "cell_type": "code",
   "execution_count": 23,
   "id": "2c7178f9",
   "metadata": {
    "execution": {
     "iopub.execute_input": "2021-08-10T10:41:11.486739Z",
     "iopub.status.busy": "2021-08-10T10:41:11.486022Z",
     "iopub.status.idle": "2021-08-10T10:41:11.489678Z",
     "shell.execute_reply": "2021-08-10T10:41:11.489154Z",
     "shell.execute_reply.started": "2021-08-10T09:44:32.083600Z"
    },
    "papermill": {
     "duration": 0.122274,
     "end_time": "2021-08-10T10:41:11.489809",
     "exception": false,
     "start_time": "2021-08-10T10:41:11.367535",
     "status": "completed"
    },
    "tags": []
   },
   "outputs": [
    {
     "data": {
      "text/plain": [
       "(5, 2)"
      ]
     },
     "execution_count": 23,
     "metadata": {},
     "output_type": "execute_result"
    }
   ],
   "source": [
    "study_df = study_df.drop_duplicates(subset=['id'])\n",
    "study_df.shape"
   ]
  },
  {
   "cell_type": "code",
   "execution_count": 24,
   "id": "29ca2f89",
   "metadata": {
    "execution": {
     "iopub.execute_input": "2021-08-10T10:41:11.717304Z",
     "iopub.status.busy": "2021-08-10T10:41:11.716495Z",
     "iopub.status.idle": "2021-08-10T10:42:22.888116Z",
     "shell.execute_reply": "2021-08-10T10:42:22.888492Z",
     "shell.execute_reply.started": "2021-08-10T09:45:45.246308Z"
    },
    "papermill": {
     "duration": 71.290507,
     "end_time": "2021-08-10T10:42:22.888672",
     "exception": false,
     "start_time": "2021-08-10T10:41:11.598165",
     "status": "completed"
    },
    "tags": []
   },
   "outputs": [
    {
     "name": "stderr",
     "output_type": "stream",
     "text": [
      "  0%|          | 0/5 [00:00<?, ?it/s]/opt/conda/lib/python3.7/site-packages/ipykernel_launcher.py:12: VisibleDeprecationWarning: Creating an ndarray from ragged nested sequences (which is a list-or-tuple of lists-or-tuples-or ndarrays with different lengths or shapes) is deprecated. If you meant to do this, you must specify 'dtype=object' when creating the ndarray\n",
      "  if sys.path[0] == '':\n",
      "100%|██████████| 5/5 [00:58<00:00, 11.71s/it]\n"
     ]
    },
    {
     "data": {
      "text/plain": [
       "76567"
      ]
     },
     "execution_count": 24,
     "metadata": {},
     "output_type": "execute_result"
    }
   ],
   "source": [
    "#import tensorflow as tf\n",
    "#import efficientnet.tfkeras as efn\n",
    "\n",
    "MODEL_PATH = '/kaggle/input/siimcovid19efnb7trainfold052class'\n",
    "\n",
    "#image_df['none'] = 0\n",
    "#label_cols = ['none']\n",
    "model = tf.keras.Sequential([\n",
    "            efn.EfficientNetB7(\n",
    "                input_shape=(512, 512, 3),\n",
    "                weights='imagenet',\n",
    "                include_top=False),\n",
    "            tf.keras.layers.GlobalAveragePooling2D(),\n",
    "            tf.keras.layers.Dense(1, activation='sigmoid')\n",
    "        ])\n",
    "\n",
    "num_folds = 5\n",
    "predict = []\n",
    "for i in tqdm(range(num_folds)):\n",
    "    model_path = f'{MODEL_PATH}/model{i}.h5'\n",
    "    model.load_weights(model_path)\n",
    "    pred = model.predict(test_dataset)\n",
    "    predict.append(pred)\n",
    "    del pred \n",
    "    gc.collect()\n",
    "    \n",
    "predictions = np.mean(predict, axis=0)\n",
    "\n",
    "sub_df = pd.DataFrame(data={'id': test_df['image_id'].tolist()})\n",
    "sub_df['none'] = predictions #sum([model.predict(test_dataset, verbose=1) for model in models]) / len(models)\n",
    "\n",
    "del model\n",
    "#del models0, models1, models2, models3, models4\n",
    "del test_dataset, predictions\n",
    "gc.collect()"
   ]
  },
  {
   "cell_type": "code",
   "execution_count": 25,
   "id": "d692b775",
   "metadata": {
    "execution": {
     "iopub.execute_input": "2021-08-10T10:42:23.119526Z",
     "iopub.status.busy": "2021-08-10T10:42:23.118943Z",
     "iopub.status.idle": "2021-08-10T10:42:23.125170Z",
     "shell.execute_reply": "2021-08-10T10:42:23.124693Z",
     "shell.execute_reply.started": "2021-08-10T09:46:57.059638Z"
    },
    "papermill": {
     "duration": 0.125886,
     "end_time": "2021-08-10T10:42:23.125296",
     "exception": false,
     "start_time": "2021-08-10T10:42:22.999410",
     "status": "completed"
    },
    "tags": []
   },
   "outputs": [
    {
     "data": {
      "text/html": [
       "<div>\n",
       "<style scoped>\n",
       "    .dataframe tbody tr th:only-of-type {\n",
       "        vertical-align: middle;\n",
       "    }\n",
       "\n",
       "    .dataframe tbody tr th {\n",
       "        vertical-align: top;\n",
       "    }\n",
       "\n",
       "    .dataframe thead th {\n",
       "        text-align: right;\n",
       "    }\n",
       "</style>\n",
       "<table border=\"1\" class=\"dataframe\">\n",
       "  <thead>\n",
       "    <tr style=\"text-align: right;\">\n",
       "      <th></th>\n",
       "      <th>id</th>\n",
       "      <th>none</th>\n",
       "    </tr>\n",
       "  </thead>\n",
       "  <tbody>\n",
       "    <tr>\n",
       "      <th>0</th>\n",
       "      <td>a29c5a68b07b_image</td>\n",
       "      <td>0.058766</td>\n",
       "    </tr>\n",
       "    <tr>\n",
       "      <th>1</th>\n",
       "      <td>9850b5470fd6_image</td>\n",
       "      <td>0.096071</td>\n",
       "    </tr>\n",
       "    <tr>\n",
       "      <th>2</th>\n",
       "      <td>8d6dea06a032_image</td>\n",
       "      <td>0.133567</td>\n",
       "    </tr>\n",
       "    <tr>\n",
       "      <th>3</th>\n",
       "      <td>dfc5c09a50bc_image</td>\n",
       "      <td>0.356122</td>\n",
       "    </tr>\n",
       "    <tr>\n",
       "      <th>4</th>\n",
       "      <td>7230234e120a_image</td>\n",
       "      <td>0.062900</td>\n",
       "    </tr>\n",
       "  </tbody>\n",
       "</table>\n",
       "</div>"
      ],
      "text/plain": [
       "                   id      none\n",
       "0  a29c5a68b07b_image  0.058766\n",
       "1  9850b5470fd6_image  0.096071\n",
       "2  8d6dea06a032_image  0.133567\n",
       "3  dfc5c09a50bc_image  0.356122\n",
       "4  7230234e120a_image  0.062900"
      ]
     },
     "execution_count": 25,
     "metadata": {},
     "output_type": "execute_result"
    }
   ],
   "source": [
    "sub_df.head()"
   ]
  },
  {
   "cell_type": "code",
   "execution_count": 26,
   "id": "af007e06",
   "metadata": {
    "execution": {
     "iopub.execute_input": "2021-08-10T10:42:23.358138Z",
     "iopub.status.busy": "2021-08-10T10:42:23.357395Z",
     "iopub.status.idle": "2021-08-10T10:42:23.361133Z",
     "shell.execute_reply": "2021-08-10T10:42:23.360667Z",
     "shell.execute_reply.started": "2021-08-08T09:26:30.108216Z"
    },
    "papermill": {
     "duration": 0.118411,
     "end_time": "2021-08-10T10:42:23.361257",
     "exception": false,
     "start_time": "2021-08-10T10:42:23.242846",
     "status": "completed"
    },
    "tags": []
   },
   "outputs": [],
   "source": [
    "#del test_dataset, predict, model\n",
    "#gc.collect()"
   ]
  },
  {
   "cell_type": "code",
   "execution_count": 27,
   "id": "6e9fb7e1",
   "metadata": {
    "execution": {
     "iopub.execute_input": "2021-08-10T10:42:23.589500Z",
     "iopub.status.busy": "2021-08-10T10:42:23.588076Z",
     "iopub.status.idle": "2021-08-10T10:42:23.590612Z",
     "shell.execute_reply": "2021-08-10T10:42:23.591199Z",
     "shell.execute_reply.started": "2021-08-08T09:26:30.120843Z"
    },
    "papermill": {
     "duration": 0.118387,
     "end_time": "2021-08-10T10:42:23.591336",
     "exception": false,
     "start_time": "2021-08-10T10:42:23.472949",
     "status": "completed"
    },
    "tags": []
   },
   "outputs": [],
   "source": [
    "############# cascade_rnn part ##############"
   ]
  },
  {
   "cell_type": "code",
   "execution_count": 28,
   "id": "468d4b51",
   "metadata": {
    "execution": {
     "iopub.execute_input": "2021-08-10T10:42:23.818194Z",
     "iopub.status.busy": "2021-08-10T10:42:23.817295Z",
     "iopub.status.idle": "2021-08-10T10:42:25.224865Z",
     "shell.execute_reply": "2021-08-10T10:42:25.224026Z",
     "shell.execute_reply.started": "2021-08-10T09:47:12.812796Z"
    },
    "papermill": {
     "duration": 1.522406,
     "end_time": "2021-08-10T10:42:25.225006",
     "exception": false,
     "start_time": "2021-08-10T10:42:23.702600",
     "status": "completed"
    },
    "tags": []
   },
   "outputs": [
    {
     "data": {
      "text/plain": [
       "<weakproxy at 0x7ff6f6b7c650 to Device at 0x7ff7882722d0>"
      ]
     },
     "execution_count": 28,
     "metadata": {},
     "output_type": "execute_result"
    }
   ],
   "source": [
    "from numba import cuda\n",
    "import torch\n",
    "cuda.select_device(0)\n",
    "cuda.close()\n",
    "cuda.select_device(0)"
   ]
  },
  {
   "cell_type": "code",
   "execution_count": 29,
   "id": "e3adac97",
   "metadata": {
    "execution": {
     "iopub.execute_input": "2021-08-10T10:42:25.454639Z",
     "iopub.status.busy": "2021-08-10T10:42:25.453751Z",
     "iopub.status.idle": "2021-08-10T10:42:47.787939Z",
     "shell.execute_reply": "2021-08-10T10:42:47.787051Z",
     "shell.execute_reply.started": "2021-08-10T09:47:23.527764Z"
    },
    "papermill": {
     "duration": 22.451814,
     "end_time": "2021-08-10T10:42:47.788091",
     "exception": false,
     "start_time": "2021-08-10T10:42:25.336277",
     "status": "completed"
    },
    "tags": []
   },
   "outputs": [
    {
     "name": "stdout",
     "output_type": "stream",
     "text": [
      "11.0\n",
      "GCC 7.3\n"
     ]
    }
   ],
   "source": [
    "import sys\n",
    "sys.path.append('/kaggle/working/mmdetection')\n",
    "from mmcv.ops import get_compiling_cuda_version, get_compiler_version\n",
    "print(get_compiling_cuda_version())\n",
    "print(get_compiler_version())\n",
    "\n",
    "from mmdet.apis import set_random_seed\n",
    "\n",
    "import mmdet\n",
    "from mmdet.apis import set_random_seed\n",
    "from mmdet.datasets import build_dataset\n",
    "from mmdet.models import build_detector\n",
    "\n",
    "import mmcv\n",
    "from mmcv import Config\n",
    "from mmcv.runner import load_checkpoint\n",
    "from mmcv.parallel import MMDataParallel\n",
    "from mmdet.apis import inference_detector, init_detector, show_result_pyplot\n",
    "from mmdet.apis import single_gpu_test\n",
    "from mmdet.datasets import build_dataloader, build_dataset"
   ]
  },
  {
   "cell_type": "code",
   "execution_count": 30,
   "id": "45212cf7",
   "metadata": {
    "execution": {
     "iopub.execute_input": "2021-08-10T10:42:48.002015Z",
     "iopub.status.busy": "2021-08-10T10:42:48.001490Z",
     "iopub.status.idle": "2021-08-10T10:42:48.024499Z",
     "shell.execute_reply": "2021-08-10T10:42:48.024083Z",
     "shell.execute_reply.started": "2021-08-10T09:47:58.184219Z"
    },
    "papermill": {
     "duration": 0.131003,
     "end_time": "2021-08-10T10:42:48.024668",
     "exception": false,
     "start_time": "2021-08-10T10:42:47.893665",
     "status": "completed"
    },
    "tags": []
   },
   "outputs": [],
   "source": [
    "baseline_cfg_path = '../input/cascade-rnn/job4_cascade_rcnn_x101_32x4d_fpn_1x_coco.py'\n",
    "cfg = Config.fromfile(baseline_cfg_path)"
   ]
  },
  {
   "cell_type": "code",
   "execution_count": 31,
   "id": "c94ea490",
   "metadata": {
    "execution": {
     "iopub.execute_input": "2021-08-10T10:42:48.244764Z",
     "iopub.status.busy": "2021-08-10T10:42:48.244192Z",
     "iopub.status.idle": "2021-08-10T10:42:48.250159Z",
     "shell.execute_reply": "2021-08-10T10:42:48.249214Z",
     "shell.execute_reply.started": "2021-08-10T09:48:04.831653Z"
    },
    "papermill": {
     "duration": 0.119891,
     "end_time": "2021-08-10T10:42:48.250277",
     "exception": false,
     "start_time": "2021-08-10T10:42:48.130386",
     "status": "completed"
    },
    "tags": []
   },
   "outputs": [],
   "source": [
    "cfg.classes = (\"Covid_Abnormality\")\n",
    "cfg.data.test.img_prefix = ''\n",
    "cfg.data.test.classes = cfg.classes\n",
    "\n",
    "for head in cfg.model.roi_head.bbox_head:\n",
    "    head.num_classes = 1\n",
    "\n",
    "cfg.seed = 211\n",
    "set_random_seed(211, deterministic=False)\n",
    "cfg.gpu_ids = [0]\n",
    "\n",
    "cfg.data.test.pipeline=[\n",
    "            dict(type='LoadImageFromFile'),\n",
    "            dict(\n",
    "                type='MultiScaleFlipAug',\n",
    "                img_scale=(1333, 800),\n",
    "                flip=False,\n",
    "                transforms=[\n",
    "                    dict(type='Resize', keep_ratio=True),\n",
    "                    dict(type='RandomFlip', direction='horizontal'),\n",
    "                    dict(\n",
    "                        type='Normalize',\n",
    "                        mean=[123.675, 116.28, 103.53],\n",
    "                        std=[58.395, 57.12, 57.375],\n",
    "                        to_rgb=True),\n",
    "                    dict(type='Pad', size_divisor=32),\n",
    "                    dict(type='DefaultFormatBundle'),\n",
    "                    dict(type='Collect', keys=['img'])\n",
    "                ])\n",
    "        ]\n",
    "\n",
    "cfg.test_pipeline = [\n",
    "            dict(type='LoadImageFromFile'),\n",
    "            dict(\n",
    "                type='MultiScaleFlipAug',\n",
    "                img_scale=(1333, 800),\n",
    "                flip=False,\n",
    "                transforms=[\n",
    "                    dict(type='Resize', keep_ratio=True),\n",
    "                    dict(type='RandomFlip', direction='horizontal'),\n",
    "                    dict(\n",
    "                        type='Normalize',\n",
    "                        mean=[123.675, 116.28, 103.53],\n",
    "                        std=[58.395, 57.12, 57.375],\n",
    "                        to_rgb=True),\n",
    "                    dict(type='Pad', size_divisor=32),\n",
    "                    dict(type='DefaultFormatBundle'),\n",
    "                    dict(type='Collect', keys=['img'])\n",
    "                ])\n",
    "        ]\n",
    "\n",
    "\n",
    "cfg.model.test_cfg.rcnn.score_thr = 0.001"
   ]
  },
  {
   "cell_type": "code",
   "execution_count": 32,
   "id": "d6d05764",
   "metadata": {
    "execution": {
     "iopub.execute_input": "2021-08-10T10:42:48.462029Z",
     "iopub.status.busy": "2021-08-10T10:42:48.461293Z",
     "iopub.status.idle": "2021-08-10T10:42:48.464028Z",
     "shell.execute_reply": "2021-08-10T10:42:48.463616Z",
     "shell.execute_reply.started": "2021-08-10T09:48:12.015014Z"
    },
    "papermill": {
     "duration": 0.109926,
     "end_time": "2021-08-10T10:42:48.464126",
     "exception": false,
     "start_time": "2021-08-10T10:42:48.354200",
     "status": "completed"
    },
    "tags": []
   },
   "outputs": [],
   "source": [
    "WEIGHTS_FILE = '../input/siimmmdetectioncascadercnnweightbias/epoch_10.pth'"
   ]
  },
  {
   "cell_type": "code",
   "execution_count": 33,
   "id": "aaa4abc3",
   "metadata": {
    "execution": {
     "iopub.execute_input": "2021-08-10T10:42:48.678011Z",
     "iopub.status.busy": "2021-08-10T10:42:48.677307Z",
     "iopub.status.idle": "2021-08-10T10:42:48.682003Z",
     "shell.execute_reply": "2021-08-10T10:42:48.681281Z",
     "shell.execute_reply.started": "2021-08-10T09:48:15.281664Z"
    },
    "papermill": {
     "duration": 0.113906,
     "end_time": "2021-08-10T10:42:48.682147",
     "exception": false,
     "start_time": "2021-08-10T10:42:48.568241",
     "status": "completed"
    },
    "tags": []
   },
   "outputs": [
    {
     "name": "stdout",
     "output_type": "stream",
     "text": [
      "cuda\n",
      "1.7.0+cu110 True\n",
      "11.0\n",
      "GCC 7.3\n"
     ]
    }
   ],
   "source": [
    "device = torch.device(\"cuda\") if torch.cuda.is_available() else torch.device(\"cpu\")\n",
    "print(device.type)\n",
    "import torchvision\n",
    "print(torch.__version__, torch.cuda.is_available())\n",
    "print(get_compiling_cuda_version())\n",
    "print(get_compiler_version())"
   ]
  },
  {
   "cell_type": "code",
   "execution_count": 34,
   "id": "15003211",
   "metadata": {
    "execution": {
     "iopub.execute_input": "2021-08-10T10:42:48.899466Z",
     "iopub.status.busy": "2021-08-10T10:42:48.898869Z",
     "iopub.status.idle": "2021-08-10T10:43:07.082933Z",
     "shell.execute_reply": "2021-08-10T10:43:07.083366Z",
     "shell.execute_reply.started": "2021-08-10T09:48:21.579957Z"
    },
    "papermill": {
     "duration": 18.293317,
     "end_time": "2021-08-10T10:43:07.083517",
     "exception": false,
     "start_time": "2021-08-10T10:42:48.790200",
     "status": "completed"
    },
    "tags": []
   },
   "outputs": [
    {
     "name": "stderr",
     "output_type": "stream",
     "text": [
      "/kaggle/working/mmdetection/mmdet/core/anchor/builder.py:16: UserWarning: ``build_anchor_generator`` would be deprecated soon, please use ``build_prior_generator`` \n",
      "  '``build_anchor_generator`` would be deprecated soon, please use '\n"
     ]
    },
    {
     "name": "stdout",
     "output_type": "stream",
     "text": [
      "Use load_from_local loader\n"
     ]
    },
    {
     "name": "stderr",
     "output_type": "stream",
     "text": [
      "/kaggle/working/mmdetection/mmdet/apis/inference.py:47: UserWarning: Class names are not saved in the checkpoint's meta data, use COCO classes by default.\n",
      "  warnings.warn('Class names are not saved in the checkpoint\\'s '\n"
     ]
    }
   ],
   "source": [
    "#device = torch.device(\"cuda\") if torch.cuda.is_available() else torch.device(\"cpu\")\n",
    "options = dict(classes = (\"Covid_Abnormality\"))\n",
    "model = init_detector(cfg, WEIGHTS_FILE, device='cuda:0')"
   ]
  },
  {
   "cell_type": "code",
   "execution_count": 35,
   "id": "bdf58ad1",
   "metadata": {
    "execution": {
     "iopub.execute_input": "2021-08-10T10:43:07.299514Z",
     "iopub.status.busy": "2021-08-10T10:43:07.299007Z",
     "iopub.status.idle": "2021-08-10T10:43:07.303675Z",
     "shell.execute_reply": "2021-08-10T10:43:07.304210Z",
     "shell.execute_reply.started": "2021-08-09T20:23:16.016811Z"
    },
    "papermill": {
     "duration": 0.115189,
     "end_time": "2021-08-10T10:43:07.304379",
     "exception": false,
     "start_time": "2021-08-10T10:43:07.189190",
     "status": "completed"
    },
    "tags": []
   },
   "outputs": [
    {
     "name": "stderr",
     "output_type": "stream",
     "text": [
      "/opt/conda/lib/python3.7/site-packages/ipykernel/ipkernel.py:283: DeprecationWarning: `should_run_async` will not call `transform_cell` automatically in the future. Please pass the result to `transformed_cell` argument and any exception that happen during thetransform in `preprocessing_exc_tuple` in IPython 7.17 and above.\n",
      "  and should_run_async(code)\n"
     ]
    }
   ],
   "source": [
    "results = []\n",
    "score_threshold = cfg.model.test_cfg.rcnn.score_thr"
   ]
  },
  {
   "cell_type": "code",
   "execution_count": 36,
   "id": "f7ddc4e0",
   "metadata": {
    "execution": {
     "iopub.execute_input": "2021-08-10T10:43:07.520203Z",
     "iopub.status.busy": "2021-08-10T10:43:07.519712Z",
     "iopub.status.idle": "2021-08-10T10:43:07.525276Z",
     "shell.execute_reply": "2021-08-10T10:43:07.524873Z",
     "shell.execute_reply.started": "2021-08-09T20:23:39.587537Z"
    },
    "papermill": {
     "duration": 0.114798,
     "end_time": "2021-08-10T10:43:07.525379",
     "exception": false,
     "start_time": "2021-08-10T10:43:07.410581",
     "status": "completed"
    },
    "tags": []
   },
   "outputs": [
    {
     "data": {
      "text/plain": [
       "'def format_pred(boxes, scores, labels):\\n    pred_strings = []\\n    label_str = [\\'opacity\\']\\n    for label, score, bbox in zip(labels, scores, boxes):\\n        xmin, ymin, xmax, ymax = bbox.astype(np.int64)\\n        pred_strings.append(f\"{label_str[int(label)]} {score:.16f} {xmin} {ymin} {xmax} {ymax}\")\\n    return \" \".join(pred_strings)'"
      ]
     },
     "execution_count": 36,
     "metadata": {},
     "output_type": "execute_result"
    }
   ],
   "source": [
    "'''def format_pred(boxes, scores, labels):\n",
    "    pred_strings = []\n",
    "    label_str = ['opacity']\n",
    "    for label, score, bbox in zip(labels, scores, boxes):\n",
    "        xmin, ymin, xmax, ymax = bbox.astype(np.int64)\n",
    "        pred_strings.append(f\"{label_str[int(label)]} {score:.16f} {xmin} {ymin} {xmax} {ymax}\")\n",
    "    return \" \".join(pred_strings)'''\n"
   ]
  },
  {
   "cell_type": "code",
   "execution_count": 37,
   "id": "012cc7c2",
   "metadata": {
    "execution": {
     "iopub.execute_input": "2021-08-10T10:43:07.740380Z",
     "iopub.status.busy": "2021-08-10T10:43:07.739646Z",
     "iopub.status.idle": "2021-08-10T10:43:07.760436Z",
     "shell.execute_reply": "2021-08-10T10:43:07.760843Z"
    },
    "papermill": {
     "duration": 0.129967,
     "end_time": "2021-08-10T10:43:07.760966",
     "exception": false,
     "start_time": "2021-08-10T10:43:07.630999",
     "status": "completed"
    },
    "tags": []
   },
   "outputs": [
    {
     "data": {
      "text/plain": [
       "CascadeRCNN(\n",
       "  (backbone): ResNeXt(\n",
       "    (conv1): Conv2d(3, 64, kernel_size=(7, 7), stride=(2, 2), padding=(3, 3), bias=False)\n",
       "    (bn1): BatchNorm2d(64, eps=1e-05, momentum=0.1, affine=True, track_running_stats=True)\n",
       "    (relu): ReLU(inplace=True)\n",
       "    (maxpool): MaxPool2d(kernel_size=3, stride=2, padding=1, dilation=1, ceil_mode=False)\n",
       "    (layer1): ResLayer(\n",
       "      (0): Bottleneck(\n",
       "        (conv1): Conv2d(64, 128, kernel_size=(1, 1), stride=(1, 1), bias=False)\n",
       "        (bn1): BatchNorm2d(128, eps=1e-05, momentum=0.1, affine=True, track_running_stats=True)\n",
       "        (conv2): Conv2d(128, 128, kernel_size=(3, 3), stride=(1, 1), padding=(1, 1), groups=32, bias=False)\n",
       "        (bn2): BatchNorm2d(128, eps=1e-05, momentum=0.1, affine=True, track_running_stats=True)\n",
       "        (conv3): Conv2d(128, 256, kernel_size=(1, 1), stride=(1, 1), bias=False)\n",
       "        (bn3): BatchNorm2d(256, eps=1e-05, momentum=0.1, affine=True, track_running_stats=True)\n",
       "        (relu): ReLU(inplace=True)\n",
       "        (downsample): Sequential(\n",
       "          (0): Conv2d(64, 256, kernel_size=(1, 1), stride=(1, 1), bias=False)\n",
       "          (1): BatchNorm2d(256, eps=1e-05, momentum=0.1, affine=True, track_running_stats=True)\n",
       "        )\n",
       "      )\n",
       "      (1): Bottleneck(\n",
       "        (conv1): Conv2d(256, 128, kernel_size=(1, 1), stride=(1, 1), bias=False)\n",
       "        (bn1): BatchNorm2d(128, eps=1e-05, momentum=0.1, affine=True, track_running_stats=True)\n",
       "        (conv2): Conv2d(128, 128, kernel_size=(3, 3), stride=(1, 1), padding=(1, 1), groups=32, bias=False)\n",
       "        (bn2): BatchNorm2d(128, eps=1e-05, momentum=0.1, affine=True, track_running_stats=True)\n",
       "        (conv3): Conv2d(128, 256, kernel_size=(1, 1), stride=(1, 1), bias=False)\n",
       "        (bn3): BatchNorm2d(256, eps=1e-05, momentum=0.1, affine=True, track_running_stats=True)\n",
       "        (relu): ReLU(inplace=True)\n",
       "      )\n",
       "      (2): Bottleneck(\n",
       "        (conv1): Conv2d(256, 128, kernel_size=(1, 1), stride=(1, 1), bias=False)\n",
       "        (bn1): BatchNorm2d(128, eps=1e-05, momentum=0.1, affine=True, track_running_stats=True)\n",
       "        (conv2): Conv2d(128, 128, kernel_size=(3, 3), stride=(1, 1), padding=(1, 1), groups=32, bias=False)\n",
       "        (bn2): BatchNorm2d(128, eps=1e-05, momentum=0.1, affine=True, track_running_stats=True)\n",
       "        (conv3): Conv2d(128, 256, kernel_size=(1, 1), stride=(1, 1), bias=False)\n",
       "        (bn3): BatchNorm2d(256, eps=1e-05, momentum=0.1, affine=True, track_running_stats=True)\n",
       "        (relu): ReLU(inplace=True)\n",
       "      )\n",
       "    )\n",
       "    (layer2): ResLayer(\n",
       "      (0): Bottleneck(\n",
       "        (conv1): Conv2d(256, 256, kernel_size=(1, 1), stride=(1, 1), bias=False)\n",
       "        (bn1): BatchNorm2d(256, eps=1e-05, momentum=0.1, affine=True, track_running_stats=True)\n",
       "        (conv2): Conv2d(256, 256, kernel_size=(3, 3), stride=(2, 2), padding=(1, 1), groups=32, bias=False)\n",
       "        (bn2): BatchNorm2d(256, eps=1e-05, momentum=0.1, affine=True, track_running_stats=True)\n",
       "        (conv3): Conv2d(256, 512, kernel_size=(1, 1), stride=(1, 1), bias=False)\n",
       "        (bn3): BatchNorm2d(512, eps=1e-05, momentum=0.1, affine=True, track_running_stats=True)\n",
       "        (relu): ReLU(inplace=True)\n",
       "        (downsample): Sequential(\n",
       "          (0): Conv2d(256, 512, kernel_size=(1, 1), stride=(2, 2), bias=False)\n",
       "          (1): BatchNorm2d(512, eps=1e-05, momentum=0.1, affine=True, track_running_stats=True)\n",
       "        )\n",
       "      )\n",
       "      (1): Bottleneck(\n",
       "        (conv1): Conv2d(512, 256, kernel_size=(1, 1), stride=(1, 1), bias=False)\n",
       "        (bn1): BatchNorm2d(256, eps=1e-05, momentum=0.1, affine=True, track_running_stats=True)\n",
       "        (conv2): Conv2d(256, 256, kernel_size=(3, 3), stride=(1, 1), padding=(1, 1), groups=32, bias=False)\n",
       "        (bn2): BatchNorm2d(256, eps=1e-05, momentum=0.1, affine=True, track_running_stats=True)\n",
       "        (conv3): Conv2d(256, 512, kernel_size=(1, 1), stride=(1, 1), bias=False)\n",
       "        (bn3): BatchNorm2d(512, eps=1e-05, momentum=0.1, affine=True, track_running_stats=True)\n",
       "        (relu): ReLU(inplace=True)\n",
       "      )\n",
       "      (2): Bottleneck(\n",
       "        (conv1): Conv2d(512, 256, kernel_size=(1, 1), stride=(1, 1), bias=False)\n",
       "        (bn1): BatchNorm2d(256, eps=1e-05, momentum=0.1, affine=True, track_running_stats=True)\n",
       "        (conv2): Conv2d(256, 256, kernel_size=(3, 3), stride=(1, 1), padding=(1, 1), groups=32, bias=False)\n",
       "        (bn2): BatchNorm2d(256, eps=1e-05, momentum=0.1, affine=True, track_running_stats=True)\n",
       "        (conv3): Conv2d(256, 512, kernel_size=(1, 1), stride=(1, 1), bias=False)\n",
       "        (bn3): BatchNorm2d(512, eps=1e-05, momentum=0.1, affine=True, track_running_stats=True)\n",
       "        (relu): ReLU(inplace=True)\n",
       "      )\n",
       "      (3): Bottleneck(\n",
       "        (conv1): Conv2d(512, 256, kernel_size=(1, 1), stride=(1, 1), bias=False)\n",
       "        (bn1): BatchNorm2d(256, eps=1e-05, momentum=0.1, affine=True, track_running_stats=True)\n",
       "        (conv2): Conv2d(256, 256, kernel_size=(3, 3), stride=(1, 1), padding=(1, 1), groups=32, bias=False)\n",
       "        (bn2): BatchNorm2d(256, eps=1e-05, momentum=0.1, affine=True, track_running_stats=True)\n",
       "        (conv3): Conv2d(256, 512, kernel_size=(1, 1), stride=(1, 1), bias=False)\n",
       "        (bn3): BatchNorm2d(512, eps=1e-05, momentum=0.1, affine=True, track_running_stats=True)\n",
       "        (relu): ReLU(inplace=True)\n",
       "      )\n",
       "    )\n",
       "    (layer3): ResLayer(\n",
       "      (0): Bottleneck(\n",
       "        (conv1): Conv2d(512, 512, kernel_size=(1, 1), stride=(1, 1), bias=False)\n",
       "        (bn1): BatchNorm2d(512, eps=1e-05, momentum=0.1, affine=True, track_running_stats=True)\n",
       "        (conv2): Conv2d(512, 512, kernel_size=(3, 3), stride=(2, 2), padding=(1, 1), groups=32, bias=False)\n",
       "        (bn2): BatchNorm2d(512, eps=1e-05, momentum=0.1, affine=True, track_running_stats=True)\n",
       "        (conv3): Conv2d(512, 1024, kernel_size=(1, 1), stride=(1, 1), bias=False)\n",
       "        (bn3): BatchNorm2d(1024, eps=1e-05, momentum=0.1, affine=True, track_running_stats=True)\n",
       "        (relu): ReLU(inplace=True)\n",
       "        (downsample): Sequential(\n",
       "          (0): Conv2d(512, 1024, kernel_size=(1, 1), stride=(2, 2), bias=False)\n",
       "          (1): BatchNorm2d(1024, eps=1e-05, momentum=0.1, affine=True, track_running_stats=True)\n",
       "        )\n",
       "      )\n",
       "      (1): Bottleneck(\n",
       "        (conv1): Conv2d(1024, 512, kernel_size=(1, 1), stride=(1, 1), bias=False)\n",
       "        (bn1): BatchNorm2d(512, eps=1e-05, momentum=0.1, affine=True, track_running_stats=True)\n",
       "        (conv2): Conv2d(512, 512, kernel_size=(3, 3), stride=(1, 1), padding=(1, 1), groups=32, bias=False)\n",
       "        (bn2): BatchNorm2d(512, eps=1e-05, momentum=0.1, affine=True, track_running_stats=True)\n",
       "        (conv3): Conv2d(512, 1024, kernel_size=(1, 1), stride=(1, 1), bias=False)\n",
       "        (bn3): BatchNorm2d(1024, eps=1e-05, momentum=0.1, affine=True, track_running_stats=True)\n",
       "        (relu): ReLU(inplace=True)\n",
       "      )\n",
       "      (2): Bottleneck(\n",
       "        (conv1): Conv2d(1024, 512, kernel_size=(1, 1), stride=(1, 1), bias=False)\n",
       "        (bn1): BatchNorm2d(512, eps=1e-05, momentum=0.1, affine=True, track_running_stats=True)\n",
       "        (conv2): Conv2d(512, 512, kernel_size=(3, 3), stride=(1, 1), padding=(1, 1), groups=32, bias=False)\n",
       "        (bn2): BatchNorm2d(512, eps=1e-05, momentum=0.1, affine=True, track_running_stats=True)\n",
       "        (conv3): Conv2d(512, 1024, kernel_size=(1, 1), stride=(1, 1), bias=False)\n",
       "        (bn3): BatchNorm2d(1024, eps=1e-05, momentum=0.1, affine=True, track_running_stats=True)\n",
       "        (relu): ReLU(inplace=True)\n",
       "      )\n",
       "      (3): Bottleneck(\n",
       "        (conv1): Conv2d(1024, 512, kernel_size=(1, 1), stride=(1, 1), bias=False)\n",
       "        (bn1): BatchNorm2d(512, eps=1e-05, momentum=0.1, affine=True, track_running_stats=True)\n",
       "        (conv2): Conv2d(512, 512, kernel_size=(3, 3), stride=(1, 1), padding=(1, 1), groups=32, bias=False)\n",
       "        (bn2): BatchNorm2d(512, eps=1e-05, momentum=0.1, affine=True, track_running_stats=True)\n",
       "        (conv3): Conv2d(512, 1024, kernel_size=(1, 1), stride=(1, 1), bias=False)\n",
       "        (bn3): BatchNorm2d(1024, eps=1e-05, momentum=0.1, affine=True, track_running_stats=True)\n",
       "        (relu): ReLU(inplace=True)\n",
       "      )\n",
       "      (4): Bottleneck(\n",
       "        (conv1): Conv2d(1024, 512, kernel_size=(1, 1), stride=(1, 1), bias=False)\n",
       "        (bn1): BatchNorm2d(512, eps=1e-05, momentum=0.1, affine=True, track_running_stats=True)\n",
       "        (conv2): Conv2d(512, 512, kernel_size=(3, 3), stride=(1, 1), padding=(1, 1), groups=32, bias=False)\n",
       "        (bn2): BatchNorm2d(512, eps=1e-05, momentum=0.1, affine=True, track_running_stats=True)\n",
       "        (conv3): Conv2d(512, 1024, kernel_size=(1, 1), stride=(1, 1), bias=False)\n",
       "        (bn3): BatchNorm2d(1024, eps=1e-05, momentum=0.1, affine=True, track_running_stats=True)\n",
       "        (relu): ReLU(inplace=True)\n",
       "      )\n",
       "      (5): Bottleneck(\n",
       "        (conv1): Conv2d(1024, 512, kernel_size=(1, 1), stride=(1, 1), bias=False)\n",
       "        (bn1): BatchNorm2d(512, eps=1e-05, momentum=0.1, affine=True, track_running_stats=True)\n",
       "        (conv2): Conv2d(512, 512, kernel_size=(3, 3), stride=(1, 1), padding=(1, 1), groups=32, bias=False)\n",
       "        (bn2): BatchNorm2d(512, eps=1e-05, momentum=0.1, affine=True, track_running_stats=True)\n",
       "        (conv3): Conv2d(512, 1024, kernel_size=(1, 1), stride=(1, 1), bias=False)\n",
       "        (bn3): BatchNorm2d(1024, eps=1e-05, momentum=0.1, affine=True, track_running_stats=True)\n",
       "        (relu): ReLU(inplace=True)\n",
       "      )\n",
       "      (6): Bottleneck(\n",
       "        (conv1): Conv2d(1024, 512, kernel_size=(1, 1), stride=(1, 1), bias=False)\n",
       "        (bn1): BatchNorm2d(512, eps=1e-05, momentum=0.1, affine=True, track_running_stats=True)\n",
       "        (conv2): Conv2d(512, 512, kernel_size=(3, 3), stride=(1, 1), padding=(1, 1), groups=32, bias=False)\n",
       "        (bn2): BatchNorm2d(512, eps=1e-05, momentum=0.1, affine=True, track_running_stats=True)\n",
       "        (conv3): Conv2d(512, 1024, kernel_size=(1, 1), stride=(1, 1), bias=False)\n",
       "        (bn3): BatchNorm2d(1024, eps=1e-05, momentum=0.1, affine=True, track_running_stats=True)\n",
       "        (relu): ReLU(inplace=True)\n",
       "      )\n",
       "      (7): Bottleneck(\n",
       "        (conv1): Conv2d(1024, 512, kernel_size=(1, 1), stride=(1, 1), bias=False)\n",
       "        (bn1): BatchNorm2d(512, eps=1e-05, momentum=0.1, affine=True, track_running_stats=True)\n",
       "        (conv2): Conv2d(512, 512, kernel_size=(3, 3), stride=(1, 1), padding=(1, 1), groups=32, bias=False)\n",
       "        (bn2): BatchNorm2d(512, eps=1e-05, momentum=0.1, affine=True, track_running_stats=True)\n",
       "        (conv3): Conv2d(512, 1024, kernel_size=(1, 1), stride=(1, 1), bias=False)\n",
       "        (bn3): BatchNorm2d(1024, eps=1e-05, momentum=0.1, affine=True, track_running_stats=True)\n",
       "        (relu): ReLU(inplace=True)\n",
       "      )\n",
       "      (8): Bottleneck(\n",
       "        (conv1): Conv2d(1024, 512, kernel_size=(1, 1), stride=(1, 1), bias=False)\n",
       "        (bn1): BatchNorm2d(512, eps=1e-05, momentum=0.1, affine=True, track_running_stats=True)\n",
       "        (conv2): Conv2d(512, 512, kernel_size=(3, 3), stride=(1, 1), padding=(1, 1), groups=32, bias=False)\n",
       "        (bn2): BatchNorm2d(512, eps=1e-05, momentum=0.1, affine=True, track_running_stats=True)\n",
       "        (conv3): Conv2d(512, 1024, kernel_size=(1, 1), stride=(1, 1), bias=False)\n",
       "        (bn3): BatchNorm2d(1024, eps=1e-05, momentum=0.1, affine=True, track_running_stats=True)\n",
       "        (relu): ReLU(inplace=True)\n",
       "      )\n",
       "      (9): Bottleneck(\n",
       "        (conv1): Conv2d(1024, 512, kernel_size=(1, 1), stride=(1, 1), bias=False)\n",
       "        (bn1): BatchNorm2d(512, eps=1e-05, momentum=0.1, affine=True, track_running_stats=True)\n",
       "        (conv2): Conv2d(512, 512, kernel_size=(3, 3), stride=(1, 1), padding=(1, 1), groups=32, bias=False)\n",
       "        (bn2): BatchNorm2d(512, eps=1e-05, momentum=0.1, affine=True, track_running_stats=True)\n",
       "        (conv3): Conv2d(512, 1024, kernel_size=(1, 1), stride=(1, 1), bias=False)\n",
       "        (bn3): BatchNorm2d(1024, eps=1e-05, momentum=0.1, affine=True, track_running_stats=True)\n",
       "        (relu): ReLU(inplace=True)\n",
       "      )\n",
       "      (10): Bottleneck(\n",
       "        (conv1): Conv2d(1024, 512, kernel_size=(1, 1), stride=(1, 1), bias=False)\n",
       "        (bn1): BatchNorm2d(512, eps=1e-05, momentum=0.1, affine=True, track_running_stats=True)\n",
       "        (conv2): Conv2d(512, 512, kernel_size=(3, 3), stride=(1, 1), padding=(1, 1), groups=32, bias=False)\n",
       "        (bn2): BatchNorm2d(512, eps=1e-05, momentum=0.1, affine=True, track_running_stats=True)\n",
       "        (conv3): Conv2d(512, 1024, kernel_size=(1, 1), stride=(1, 1), bias=False)\n",
       "        (bn3): BatchNorm2d(1024, eps=1e-05, momentum=0.1, affine=True, track_running_stats=True)\n",
       "        (relu): ReLU(inplace=True)\n",
       "      )\n",
       "      (11): Bottleneck(\n",
       "        (conv1): Conv2d(1024, 512, kernel_size=(1, 1), stride=(1, 1), bias=False)\n",
       "        (bn1): BatchNorm2d(512, eps=1e-05, momentum=0.1, affine=True, track_running_stats=True)\n",
       "        (conv2): Conv2d(512, 512, kernel_size=(3, 3), stride=(1, 1), padding=(1, 1), groups=32, bias=False)\n",
       "        (bn2): BatchNorm2d(512, eps=1e-05, momentum=0.1, affine=True, track_running_stats=True)\n",
       "        (conv3): Conv2d(512, 1024, kernel_size=(1, 1), stride=(1, 1), bias=False)\n",
       "        (bn3): BatchNorm2d(1024, eps=1e-05, momentum=0.1, affine=True, track_running_stats=True)\n",
       "        (relu): ReLU(inplace=True)\n",
       "      )\n",
       "      (12): Bottleneck(\n",
       "        (conv1): Conv2d(1024, 512, kernel_size=(1, 1), stride=(1, 1), bias=False)\n",
       "        (bn1): BatchNorm2d(512, eps=1e-05, momentum=0.1, affine=True, track_running_stats=True)\n",
       "        (conv2): Conv2d(512, 512, kernel_size=(3, 3), stride=(1, 1), padding=(1, 1), groups=32, bias=False)\n",
       "        (bn2): BatchNorm2d(512, eps=1e-05, momentum=0.1, affine=True, track_running_stats=True)\n",
       "        (conv3): Conv2d(512, 1024, kernel_size=(1, 1), stride=(1, 1), bias=False)\n",
       "        (bn3): BatchNorm2d(1024, eps=1e-05, momentum=0.1, affine=True, track_running_stats=True)\n",
       "        (relu): ReLU(inplace=True)\n",
       "      )\n",
       "      (13): Bottleneck(\n",
       "        (conv1): Conv2d(1024, 512, kernel_size=(1, 1), stride=(1, 1), bias=False)\n",
       "        (bn1): BatchNorm2d(512, eps=1e-05, momentum=0.1, affine=True, track_running_stats=True)\n",
       "        (conv2): Conv2d(512, 512, kernel_size=(3, 3), stride=(1, 1), padding=(1, 1), groups=32, bias=False)\n",
       "        (bn2): BatchNorm2d(512, eps=1e-05, momentum=0.1, affine=True, track_running_stats=True)\n",
       "        (conv3): Conv2d(512, 1024, kernel_size=(1, 1), stride=(1, 1), bias=False)\n",
       "        (bn3): BatchNorm2d(1024, eps=1e-05, momentum=0.1, affine=True, track_running_stats=True)\n",
       "        (relu): ReLU(inplace=True)\n",
       "      )\n",
       "      (14): Bottleneck(\n",
       "        (conv1): Conv2d(1024, 512, kernel_size=(1, 1), stride=(1, 1), bias=False)\n",
       "        (bn1): BatchNorm2d(512, eps=1e-05, momentum=0.1, affine=True, track_running_stats=True)\n",
       "        (conv2): Conv2d(512, 512, kernel_size=(3, 3), stride=(1, 1), padding=(1, 1), groups=32, bias=False)\n",
       "        (bn2): BatchNorm2d(512, eps=1e-05, momentum=0.1, affine=True, track_running_stats=True)\n",
       "        (conv3): Conv2d(512, 1024, kernel_size=(1, 1), stride=(1, 1), bias=False)\n",
       "        (bn3): BatchNorm2d(1024, eps=1e-05, momentum=0.1, affine=True, track_running_stats=True)\n",
       "        (relu): ReLU(inplace=True)\n",
       "      )\n",
       "      (15): Bottleneck(\n",
       "        (conv1): Conv2d(1024, 512, kernel_size=(1, 1), stride=(1, 1), bias=False)\n",
       "        (bn1): BatchNorm2d(512, eps=1e-05, momentum=0.1, affine=True, track_running_stats=True)\n",
       "        (conv2): Conv2d(512, 512, kernel_size=(3, 3), stride=(1, 1), padding=(1, 1), groups=32, bias=False)\n",
       "        (bn2): BatchNorm2d(512, eps=1e-05, momentum=0.1, affine=True, track_running_stats=True)\n",
       "        (conv3): Conv2d(512, 1024, kernel_size=(1, 1), stride=(1, 1), bias=False)\n",
       "        (bn3): BatchNorm2d(1024, eps=1e-05, momentum=0.1, affine=True, track_running_stats=True)\n",
       "        (relu): ReLU(inplace=True)\n",
       "      )\n",
       "      (16): Bottleneck(\n",
       "        (conv1): Conv2d(1024, 512, kernel_size=(1, 1), stride=(1, 1), bias=False)\n",
       "        (bn1): BatchNorm2d(512, eps=1e-05, momentum=0.1, affine=True, track_running_stats=True)\n",
       "        (conv2): Conv2d(512, 512, kernel_size=(3, 3), stride=(1, 1), padding=(1, 1), groups=32, bias=False)\n",
       "        (bn2): BatchNorm2d(512, eps=1e-05, momentum=0.1, affine=True, track_running_stats=True)\n",
       "        (conv3): Conv2d(512, 1024, kernel_size=(1, 1), stride=(1, 1), bias=False)\n",
       "        (bn3): BatchNorm2d(1024, eps=1e-05, momentum=0.1, affine=True, track_running_stats=True)\n",
       "        (relu): ReLU(inplace=True)\n",
       "      )\n",
       "      (17): Bottleneck(\n",
       "        (conv1): Conv2d(1024, 512, kernel_size=(1, 1), stride=(1, 1), bias=False)\n",
       "        (bn1): BatchNorm2d(512, eps=1e-05, momentum=0.1, affine=True, track_running_stats=True)\n",
       "        (conv2): Conv2d(512, 512, kernel_size=(3, 3), stride=(1, 1), padding=(1, 1), groups=32, bias=False)\n",
       "        (bn2): BatchNorm2d(512, eps=1e-05, momentum=0.1, affine=True, track_running_stats=True)\n",
       "        (conv3): Conv2d(512, 1024, kernel_size=(1, 1), stride=(1, 1), bias=False)\n",
       "        (bn3): BatchNorm2d(1024, eps=1e-05, momentum=0.1, affine=True, track_running_stats=True)\n",
       "        (relu): ReLU(inplace=True)\n",
       "      )\n",
       "      (18): Bottleneck(\n",
       "        (conv1): Conv2d(1024, 512, kernel_size=(1, 1), stride=(1, 1), bias=False)\n",
       "        (bn1): BatchNorm2d(512, eps=1e-05, momentum=0.1, affine=True, track_running_stats=True)\n",
       "        (conv2): Conv2d(512, 512, kernel_size=(3, 3), stride=(1, 1), padding=(1, 1), groups=32, bias=False)\n",
       "        (bn2): BatchNorm2d(512, eps=1e-05, momentum=0.1, affine=True, track_running_stats=True)\n",
       "        (conv3): Conv2d(512, 1024, kernel_size=(1, 1), stride=(1, 1), bias=False)\n",
       "        (bn3): BatchNorm2d(1024, eps=1e-05, momentum=0.1, affine=True, track_running_stats=True)\n",
       "        (relu): ReLU(inplace=True)\n",
       "      )\n",
       "      (19): Bottleneck(\n",
       "        (conv1): Conv2d(1024, 512, kernel_size=(1, 1), stride=(1, 1), bias=False)\n",
       "        (bn1): BatchNorm2d(512, eps=1e-05, momentum=0.1, affine=True, track_running_stats=True)\n",
       "        (conv2): Conv2d(512, 512, kernel_size=(3, 3), stride=(1, 1), padding=(1, 1), groups=32, bias=False)\n",
       "        (bn2): BatchNorm2d(512, eps=1e-05, momentum=0.1, affine=True, track_running_stats=True)\n",
       "        (conv3): Conv2d(512, 1024, kernel_size=(1, 1), stride=(1, 1), bias=False)\n",
       "        (bn3): BatchNorm2d(1024, eps=1e-05, momentum=0.1, affine=True, track_running_stats=True)\n",
       "        (relu): ReLU(inplace=True)\n",
       "      )\n",
       "      (20): Bottleneck(\n",
       "        (conv1): Conv2d(1024, 512, kernel_size=(1, 1), stride=(1, 1), bias=False)\n",
       "        (bn1): BatchNorm2d(512, eps=1e-05, momentum=0.1, affine=True, track_running_stats=True)\n",
       "        (conv2): Conv2d(512, 512, kernel_size=(3, 3), stride=(1, 1), padding=(1, 1), groups=32, bias=False)\n",
       "        (bn2): BatchNorm2d(512, eps=1e-05, momentum=0.1, affine=True, track_running_stats=True)\n",
       "        (conv3): Conv2d(512, 1024, kernel_size=(1, 1), stride=(1, 1), bias=False)\n",
       "        (bn3): BatchNorm2d(1024, eps=1e-05, momentum=0.1, affine=True, track_running_stats=True)\n",
       "        (relu): ReLU(inplace=True)\n",
       "      )\n",
       "      (21): Bottleneck(\n",
       "        (conv1): Conv2d(1024, 512, kernel_size=(1, 1), stride=(1, 1), bias=False)\n",
       "        (bn1): BatchNorm2d(512, eps=1e-05, momentum=0.1, affine=True, track_running_stats=True)\n",
       "        (conv2): Conv2d(512, 512, kernel_size=(3, 3), stride=(1, 1), padding=(1, 1), groups=32, bias=False)\n",
       "        (bn2): BatchNorm2d(512, eps=1e-05, momentum=0.1, affine=True, track_running_stats=True)\n",
       "        (conv3): Conv2d(512, 1024, kernel_size=(1, 1), stride=(1, 1), bias=False)\n",
       "        (bn3): BatchNorm2d(1024, eps=1e-05, momentum=0.1, affine=True, track_running_stats=True)\n",
       "        (relu): ReLU(inplace=True)\n",
       "      )\n",
       "      (22): Bottleneck(\n",
       "        (conv1): Conv2d(1024, 512, kernel_size=(1, 1), stride=(1, 1), bias=False)\n",
       "        (bn1): BatchNorm2d(512, eps=1e-05, momentum=0.1, affine=True, track_running_stats=True)\n",
       "        (conv2): Conv2d(512, 512, kernel_size=(3, 3), stride=(1, 1), padding=(1, 1), groups=32, bias=False)\n",
       "        (bn2): BatchNorm2d(512, eps=1e-05, momentum=0.1, affine=True, track_running_stats=True)\n",
       "        (conv3): Conv2d(512, 1024, kernel_size=(1, 1), stride=(1, 1), bias=False)\n",
       "        (bn3): BatchNorm2d(1024, eps=1e-05, momentum=0.1, affine=True, track_running_stats=True)\n",
       "        (relu): ReLU(inplace=True)\n",
       "      )\n",
       "    )\n",
       "    (layer4): ResLayer(\n",
       "      (0): Bottleneck(\n",
       "        (conv1): Conv2d(1024, 1024, kernel_size=(1, 1), stride=(1, 1), bias=False)\n",
       "        (bn1): BatchNorm2d(1024, eps=1e-05, momentum=0.1, affine=True, track_running_stats=True)\n",
       "        (conv2): Conv2d(1024, 1024, kernel_size=(3, 3), stride=(2, 2), padding=(1, 1), groups=32, bias=False)\n",
       "        (bn2): BatchNorm2d(1024, eps=1e-05, momentum=0.1, affine=True, track_running_stats=True)\n",
       "        (conv3): Conv2d(1024, 2048, kernel_size=(1, 1), stride=(1, 1), bias=False)\n",
       "        (bn3): BatchNorm2d(2048, eps=1e-05, momentum=0.1, affine=True, track_running_stats=True)\n",
       "        (relu): ReLU(inplace=True)\n",
       "        (downsample): Sequential(\n",
       "          (0): Conv2d(1024, 2048, kernel_size=(1, 1), stride=(2, 2), bias=False)\n",
       "          (1): BatchNorm2d(2048, eps=1e-05, momentum=0.1, affine=True, track_running_stats=True)\n",
       "        )\n",
       "      )\n",
       "      (1): Bottleneck(\n",
       "        (conv1): Conv2d(2048, 1024, kernel_size=(1, 1), stride=(1, 1), bias=False)\n",
       "        (bn1): BatchNorm2d(1024, eps=1e-05, momentum=0.1, affine=True, track_running_stats=True)\n",
       "        (conv2): Conv2d(1024, 1024, kernel_size=(3, 3), stride=(1, 1), padding=(1, 1), groups=32, bias=False)\n",
       "        (bn2): BatchNorm2d(1024, eps=1e-05, momentum=0.1, affine=True, track_running_stats=True)\n",
       "        (conv3): Conv2d(1024, 2048, kernel_size=(1, 1), stride=(1, 1), bias=False)\n",
       "        (bn3): BatchNorm2d(2048, eps=1e-05, momentum=0.1, affine=True, track_running_stats=True)\n",
       "        (relu): ReLU(inplace=True)\n",
       "      )\n",
       "      (2): Bottleneck(\n",
       "        (conv1): Conv2d(2048, 1024, kernel_size=(1, 1), stride=(1, 1), bias=False)\n",
       "        (bn1): BatchNorm2d(1024, eps=1e-05, momentum=0.1, affine=True, track_running_stats=True)\n",
       "        (conv2): Conv2d(1024, 1024, kernel_size=(3, 3), stride=(1, 1), padding=(1, 1), groups=32, bias=False)\n",
       "        (bn2): BatchNorm2d(1024, eps=1e-05, momentum=0.1, affine=True, track_running_stats=True)\n",
       "        (conv3): Conv2d(1024, 2048, kernel_size=(1, 1), stride=(1, 1), bias=False)\n",
       "        (bn3): BatchNorm2d(2048, eps=1e-05, momentum=0.1, affine=True, track_running_stats=True)\n",
       "        (relu): ReLU(inplace=True)\n",
       "      )\n",
       "    )\n",
       "  )\n",
       "  init_cfg={'type': 'Pretrained', 'checkpoint': 'open-mmlab://resnext101_32x4d'}\n",
       "  (neck): FPN(\n",
       "    (lateral_convs): ModuleList(\n",
       "      (0): ConvModule(\n",
       "        (conv): Conv2d(256, 256, kernel_size=(1, 1), stride=(1, 1))\n",
       "      )\n",
       "      (1): ConvModule(\n",
       "        (conv): Conv2d(512, 256, kernel_size=(1, 1), stride=(1, 1))\n",
       "      )\n",
       "      (2): ConvModule(\n",
       "        (conv): Conv2d(1024, 256, kernel_size=(1, 1), stride=(1, 1))\n",
       "      )\n",
       "      (3): ConvModule(\n",
       "        (conv): Conv2d(2048, 256, kernel_size=(1, 1), stride=(1, 1))\n",
       "      )\n",
       "    )\n",
       "    (fpn_convs): ModuleList(\n",
       "      (0): ConvModule(\n",
       "        (conv): Conv2d(256, 256, kernel_size=(3, 3), stride=(1, 1), padding=(1, 1))\n",
       "      )\n",
       "      (1): ConvModule(\n",
       "        (conv): Conv2d(256, 256, kernel_size=(3, 3), stride=(1, 1), padding=(1, 1))\n",
       "      )\n",
       "      (2): ConvModule(\n",
       "        (conv): Conv2d(256, 256, kernel_size=(3, 3), stride=(1, 1), padding=(1, 1))\n",
       "      )\n",
       "      (3): ConvModule(\n",
       "        (conv): Conv2d(256, 256, kernel_size=(3, 3), stride=(1, 1), padding=(1, 1))\n",
       "      )\n",
       "    )\n",
       "  )\n",
       "  init_cfg={'type': 'Xavier', 'layer': 'Conv2d', 'distribution': 'uniform'}\n",
       "  (rpn_head): RPNHead(\n",
       "    (loss_cls): CrossEntropyLoss()\n",
       "    (loss_bbox): SmoothL1Loss()\n",
       "    (rpn_conv): Conv2d(256, 256, kernel_size=(3, 3), stride=(1, 1), padding=(1, 1))\n",
       "    (rpn_cls): Conv2d(256, 3, kernel_size=(1, 1), stride=(1, 1))\n",
       "    (rpn_reg): Conv2d(256, 12, kernel_size=(1, 1), stride=(1, 1))\n",
       "  )\n",
       "  init_cfg={'type': 'Normal', 'layer': 'Conv2d', 'std': 0.01}\n",
       "  (roi_head): CascadeRoIHead(\n",
       "    (bbox_roi_extractor): ModuleList(\n",
       "      (0): SingleRoIExtractor(\n",
       "        (roi_layers): ModuleList(\n",
       "          (0): RoIAlign(output_size=(7, 7), spatial_scale=0.25, sampling_ratio=0, pool_mode=avg, aligned=True, use_torchvision=False)\n",
       "          (1): RoIAlign(output_size=(7, 7), spatial_scale=0.125, sampling_ratio=0, pool_mode=avg, aligned=True, use_torchvision=False)\n",
       "          (2): RoIAlign(output_size=(7, 7), spatial_scale=0.0625, sampling_ratio=0, pool_mode=avg, aligned=True, use_torchvision=False)\n",
       "          (3): RoIAlign(output_size=(7, 7), spatial_scale=0.03125, sampling_ratio=0, pool_mode=avg, aligned=True, use_torchvision=False)\n",
       "        )\n",
       "      )\n",
       "      (1): SingleRoIExtractor(\n",
       "        (roi_layers): ModuleList(\n",
       "          (0): RoIAlign(output_size=(7, 7), spatial_scale=0.25, sampling_ratio=0, pool_mode=avg, aligned=True, use_torchvision=False)\n",
       "          (1): RoIAlign(output_size=(7, 7), spatial_scale=0.125, sampling_ratio=0, pool_mode=avg, aligned=True, use_torchvision=False)\n",
       "          (2): RoIAlign(output_size=(7, 7), spatial_scale=0.0625, sampling_ratio=0, pool_mode=avg, aligned=True, use_torchvision=False)\n",
       "          (3): RoIAlign(output_size=(7, 7), spatial_scale=0.03125, sampling_ratio=0, pool_mode=avg, aligned=True, use_torchvision=False)\n",
       "        )\n",
       "      )\n",
       "      (2): SingleRoIExtractor(\n",
       "        (roi_layers): ModuleList(\n",
       "          (0): RoIAlign(output_size=(7, 7), spatial_scale=0.25, sampling_ratio=0, pool_mode=avg, aligned=True, use_torchvision=False)\n",
       "          (1): RoIAlign(output_size=(7, 7), spatial_scale=0.125, sampling_ratio=0, pool_mode=avg, aligned=True, use_torchvision=False)\n",
       "          (2): RoIAlign(output_size=(7, 7), spatial_scale=0.0625, sampling_ratio=0, pool_mode=avg, aligned=True, use_torchvision=False)\n",
       "          (3): RoIAlign(output_size=(7, 7), spatial_scale=0.03125, sampling_ratio=0, pool_mode=avg, aligned=True, use_torchvision=False)\n",
       "        )\n",
       "      )\n",
       "    )\n",
       "    (bbox_head): ModuleList(\n",
       "      (0): Shared2FCBBoxHead(\n",
       "        (loss_cls): CrossEntropyLoss()\n",
       "        (loss_bbox): SmoothL1Loss()\n",
       "        (fc_cls): Linear(in_features=1024, out_features=2, bias=True)\n",
       "        (fc_reg): Linear(in_features=1024, out_features=4, bias=True)\n",
       "        (shared_convs): ModuleList()\n",
       "        (shared_fcs): ModuleList(\n",
       "          (0): Linear(in_features=12544, out_features=1024, bias=True)\n",
       "          (1): Linear(in_features=1024, out_features=1024, bias=True)\n",
       "        )\n",
       "        (cls_convs): ModuleList()\n",
       "        (cls_fcs): ModuleList()\n",
       "        (reg_convs): ModuleList()\n",
       "        (reg_fcs): ModuleList()\n",
       "        (relu): ReLU(inplace=True)\n",
       "      )\n",
       "      init_cfg=[{'type': 'Normal', 'std': 0.01, 'override': {'name': 'fc_cls'}}, {'type': 'Normal', 'std': 0.001, 'override': {'name': 'fc_reg'}}, {'type': 'Xavier', 'layer': 'Linear', 'override': [{'name': 'shared_fcs'}, {'name': 'cls_fcs'}, {'name': 'reg_fcs'}]}]\n",
       "      (1): Shared2FCBBoxHead(\n",
       "        (loss_cls): CrossEntropyLoss()\n",
       "        (loss_bbox): SmoothL1Loss()\n",
       "        (fc_cls): Linear(in_features=1024, out_features=2, bias=True)\n",
       "        (fc_reg): Linear(in_features=1024, out_features=4, bias=True)\n",
       "        (shared_convs): ModuleList()\n",
       "        (shared_fcs): ModuleList(\n",
       "          (0): Linear(in_features=12544, out_features=1024, bias=True)\n",
       "          (1): Linear(in_features=1024, out_features=1024, bias=True)\n",
       "        )\n",
       "        (cls_convs): ModuleList()\n",
       "        (cls_fcs): ModuleList()\n",
       "        (reg_convs): ModuleList()\n",
       "        (reg_fcs): ModuleList()\n",
       "        (relu): ReLU(inplace=True)\n",
       "      )\n",
       "      init_cfg=[{'type': 'Normal', 'std': 0.01, 'override': {'name': 'fc_cls'}}, {'type': 'Normal', 'std': 0.001, 'override': {'name': 'fc_reg'}}, {'type': 'Xavier', 'layer': 'Linear', 'override': [{'name': 'shared_fcs'}, {'name': 'cls_fcs'}, {'name': 'reg_fcs'}]}]\n",
       "      (2): Shared2FCBBoxHead(\n",
       "        (loss_cls): CrossEntropyLoss()\n",
       "        (loss_bbox): SmoothL1Loss()\n",
       "        (fc_cls): Linear(in_features=1024, out_features=2, bias=True)\n",
       "        (fc_reg): Linear(in_features=1024, out_features=4, bias=True)\n",
       "        (shared_convs): ModuleList()\n",
       "        (shared_fcs): ModuleList(\n",
       "          (0): Linear(in_features=12544, out_features=1024, bias=True)\n",
       "          (1): Linear(in_features=1024, out_features=1024, bias=True)\n",
       "        )\n",
       "        (cls_convs): ModuleList()\n",
       "        (cls_fcs): ModuleList()\n",
       "        (reg_convs): ModuleList()\n",
       "        (reg_fcs): ModuleList()\n",
       "        (relu): ReLU(inplace=True)\n",
       "      )\n",
       "      init_cfg=[{'type': 'Normal', 'std': 0.01, 'override': {'name': 'fc_cls'}}, {'type': 'Normal', 'std': 0.001, 'override': {'name': 'fc_reg'}}, {'type': 'Xavier', 'layer': 'Linear', 'override': [{'name': 'shared_fcs'}, {'name': 'cls_fcs'}, {'name': 'reg_fcs'}]}]\n",
       "    )\n",
       "  )\n",
       ")"
      ]
     },
     "execution_count": 37,
     "metadata": {},
     "output_type": "execute_result"
    }
   ],
   "source": [
    "model.to(device)\n",
    "model.eval()"
   ]
  },
  {
   "cell_type": "code",
   "execution_count": 38,
   "id": "363ce5b9",
   "metadata": {
    "execution": {
     "iopub.execute_input": "2021-08-10T10:43:07.980349Z",
     "iopub.status.busy": "2021-08-10T10:43:07.979128Z",
     "iopub.status.idle": "2021-08-10T10:43:07.981873Z",
     "shell.execute_reply": "2021-08-10T10:43:07.981463Z",
     "shell.execute_reply.started": "2021-08-10T09:50:50.278663Z"
    },
    "papermill": {
     "duration": 0.113957,
     "end_time": "2021-08-10T10:43:07.981976",
     "exception": false,
     "start_time": "2021-08-10T10:43:07.868019",
     "status": "completed"
    },
    "tags": []
   },
   "outputs": [],
   "source": [
    "def resize(array, size, keep_ratio=False, resample=Image.LANCZOS):\n",
    "    im = Image.fromarray(array)\n",
    "    if keep_ratio:\n",
    "        im.thumbnail((size, size), resample)\n",
    "    else:\n",
    "        im = im.resize((size, size), resample)\n",
    "    return im"
   ]
  },
  {
   "cell_type": "code",
   "execution_count": 39,
   "id": "0ad0858c",
   "metadata": {
    "execution": {
     "iopub.execute_input": "2021-08-10T10:43:08.201677Z",
     "iopub.status.busy": "2021-08-10T10:43:08.200741Z",
     "iopub.status.idle": "2021-08-10T10:43:08.203501Z",
     "shell.execute_reply": "2021-08-10T10:43:08.203073Z",
     "shell.execute_reply.started": "2021-08-10T09:51:00.492360Z"
    },
    "papermill": {
     "duration": 0.113749,
     "end_time": "2021-08-10T10:43:08.203644",
     "exception": false,
     "start_time": "2021-08-10T10:43:08.089895",
     "status": "completed"
    },
    "tags": []
   },
   "outputs": [],
   "source": [
    "split = 'test'\n",
    "save_dir = f'/kaggle/tmp/{split}/'\n",
    "os.makedirs(save_dir, exist_ok=True)"
   ]
  },
  {
   "cell_type": "code",
   "execution_count": 40,
   "id": "b1b86503",
   "metadata": {
    "execution": {
     "iopub.execute_input": "2021-08-10T10:43:08.424628Z",
     "iopub.status.busy": "2021-08-10T10:43:08.424088Z",
     "iopub.status.idle": "2021-08-10T10:43:10.883382Z",
     "shell.execute_reply": "2021-08-10T10:43:10.882754Z",
     "shell.execute_reply.started": "2021-08-10T09:51:08.337694Z"
    },
    "papermill": {
     "duration": 2.571917,
     "end_time": "2021-08-10T10:43:10.883561",
     "exception": false,
     "start_time": "2021-08-10T10:43:08.311644",
     "status": "completed"
    },
    "tags": []
   },
   "outputs": [
    {
     "name": "stderr",
     "output_type": "stream",
     "text": [
      "100%|██████████| 5/5 [00:02<00:00,  2.04it/s]\n"
     ]
    }
   ],
   "source": [
    "W = []\n",
    "H = []\n",
    "for filepath in tqdm(filepaths):\n",
    "    xray = dicom2array(filepath, yolo=True)\n",
    "    W.append(xray.shape[0])\n",
    "    H.append(xray.shape[1])\n",
    "    im = resize(xray, size=512) \n",
    "    image = filepath.split('/')[-1].replace('.dcm', '') + '.png'\n",
    "    im.save(os.path.join(save_dir, image))"
   ]
  },
  {
   "cell_type": "code",
   "execution_count": 41,
   "id": "702c5282",
   "metadata": {
    "execution": {
     "iopub.execute_input": "2021-08-10T10:43:11.105787Z",
     "iopub.status.busy": "2021-08-10T10:43:11.105262Z",
     "iopub.status.idle": "2021-08-10T10:43:11.596796Z",
     "shell.execute_reply": "2021-08-10T10:43:11.596228Z",
     "shell.execute_reply.started": "2021-08-10T09:51:25.397633Z"
    },
    "papermill": {
     "duration": 0.6036,
     "end_time": "2021-08-10T10:43:11.596915",
     "exception": false,
     "start_time": "2021-08-10T10:43:10.993315",
     "status": "completed"
    },
    "tags": []
   },
   "outputs": [
    {
     "data": {
      "text/plain": [
       "'/kaggle/tmp/yolov5'"
      ]
     },
     "execution_count": 41,
     "metadata": {},
     "output_type": "execute_result"
    }
   ],
   "source": [
    "copytree('/kaggle/input/yolov5-repo/yolov5-master', '/kaggle/tmp/yolov5')"
   ]
  },
  {
   "cell_type": "code",
   "execution_count": 42,
   "id": "e707b176",
   "metadata": {
    "execution": {
     "iopub.execute_input": "2021-08-10T10:43:11.907918Z",
     "iopub.status.busy": "2021-08-10T10:43:11.906571Z",
     "iopub.status.idle": "2021-08-10T10:43:11.909023Z",
     "shell.execute_reply": "2021-08-10T10:43:11.909642Z",
     "shell.execute_reply.started": "2021-08-08T09:35:40.737615Z"
    },
    "papermill": {
     "duration": 0.195501,
     "end_time": "2021-08-10T10:43:11.909832",
     "exception": false,
     "start_time": "2021-08-10T10:43:11.714331",
     "status": "completed"
    },
    "tags": []
   },
   "outputs": [],
   "source": [
    "#! ls /kaggle/working/test/"
   ]
  },
  {
   "cell_type": "code",
   "execution_count": 43,
   "id": "c85f90e9",
   "metadata": {
    "execution": {
     "iopub.execute_input": "2021-08-10T10:43:12.272787Z",
     "iopub.status.busy": "2021-08-10T10:43:12.271213Z",
     "iopub.status.idle": "2021-08-10T10:43:12.273861Z",
     "shell.execute_reply": "2021-08-10T10:43:12.274517Z",
     "shell.execute_reply.started": "2021-08-08T09:35:40.743736Z"
    },
    "papermill": {
     "duration": 0.181776,
     "end_time": "2021-08-10T10:43:12.274689",
     "exception": false,
     "start_time": "2021-08-10T10:43:12.092913",
     "status": "completed"
    },
    "tags": []
   },
   "outputs": [],
   "source": [
    "#copytree('/kaggle/input/yolov5-repo/yolov5-master', '/kaggle/tmp/yolov5')\n",
    "#os.chdir('/kaggle/tmp/yolov5')\n",
    "#sys.path.append('/kaggle/input/yolov5-repo/yolov5-master')\n",
    "#import detect"
   ]
  },
  {
   "cell_type": "code",
   "execution_count": 44,
   "id": "f2f76a31",
   "metadata": {
    "execution": {
     "iopub.execute_input": "2021-08-10T10:43:12.510472Z",
     "iopub.status.busy": "2021-08-10T10:43:12.509689Z",
     "iopub.status.idle": "2021-08-10T10:43:12.512479Z",
     "shell.execute_reply": "2021-08-10T10:43:12.512054Z",
     "shell.execute_reply.started": "2021-08-10T09:51:31.259729Z"
    },
    "papermill": {
     "duration": 0.115828,
     "end_time": "2021-08-10T10:43:12.512599",
     "exception": false,
     "start_time": "2021-08-10T10:43:12.396771",
     "status": "completed"
    },
    "tags": []
   },
   "outputs": [],
   "source": [
    "MODEL_PATH = '../input/weights-of-yolov5-150-epochs/best.pt'\n",
    "TEST_PATH = '/kaggle/tmp/test'\n",
    "IMG_SIZE = 512\n",
    "CONF_SCORE = 0.001"
   ]
  },
  {
   "cell_type": "code",
   "execution_count": 45,
   "id": "cd2a4294",
   "metadata": {
    "execution": {
     "iopub.execute_input": "2021-08-10T10:43:12.754225Z",
     "iopub.status.busy": "2021-08-10T10:43:12.753630Z",
     "iopub.status.idle": "2021-08-10T10:43:12.757918Z",
     "shell.execute_reply": "2021-08-10T10:43:12.757458Z",
     "shell.execute_reply.started": "2021-08-10T09:51:47.349384Z"
    },
    "papermill": {
     "duration": 0.13436,
     "end_time": "2021-08-10T10:43:12.758039",
     "exception": false,
     "start_time": "2021-08-10T10:43:12.623679",
     "status": "completed"
    },
    "tags": []
   },
   "outputs": [],
   "source": [
    "data = {'filepath': filepaths, 'w': W, 'h': H}\n",
    "meta = pd.DataFrame(data=data)\n",
    "meta['id'] = meta.filepath.apply(lambda x: x.split('/')[-1].split('.')[0])"
   ]
  },
  {
   "cell_type": "code",
   "execution_count": 46,
   "id": "604e791f",
   "metadata": {
    "execution": {
     "iopub.execute_input": "2021-08-10T10:43:13.020445Z",
     "iopub.status.busy": "2021-08-10T10:43:13.019778Z",
     "iopub.status.idle": "2021-08-10T10:43:13.023262Z",
     "shell.execute_reply": "2021-08-10T10:43:13.023744Z",
     "shell.execute_reply.started": "2021-08-10T09:51:50.237187Z"
    },
    "papermill": {
     "duration": 0.139631,
     "end_time": "2021-08-10T10:43:13.023900",
     "exception": false,
     "start_time": "2021-08-10T10:43:12.884269",
     "status": "completed"
    },
    "tags": []
   },
   "outputs": [
    {
     "data": {
      "text/html": [
       "<div>\n",
       "<style scoped>\n",
       "    .dataframe tbody tr th:only-of-type {\n",
       "        vertical-align: middle;\n",
       "    }\n",
       "\n",
       "    .dataframe tbody tr th {\n",
       "        vertical-align: top;\n",
       "    }\n",
       "\n",
       "    .dataframe thead th {\n",
       "        text-align: right;\n",
       "    }\n",
       "</style>\n",
       "<table border=\"1\" class=\"dataframe\">\n",
       "  <thead>\n",
       "    <tr style=\"text-align: right;\">\n",
       "      <th></th>\n",
       "      <th>filepath</th>\n",
       "      <th>w</th>\n",
       "      <th>h</th>\n",
       "      <th>id</th>\n",
       "    </tr>\n",
       "  </thead>\n",
       "  <tbody>\n",
       "    <tr>\n",
       "      <th>0</th>\n",
       "      <td>/kaggle/input/siim-covid19-detection/test/2fb1...</td>\n",
       "      <td>2320</td>\n",
       "      <td>2828</td>\n",
       "      <td>a29c5a68b07b</td>\n",
       "    </tr>\n",
       "    <tr>\n",
       "      <th>1</th>\n",
       "      <td>/kaggle/input/siim-covid19-detection/test/19c6...</td>\n",
       "      <td>2330</td>\n",
       "      <td>2382</td>\n",
       "      <td>9850b5470fd6</td>\n",
       "    </tr>\n",
       "    <tr>\n",
       "      <th>2</th>\n",
       "      <td>/kaggle/input/siim-covid19-detection/test/2fc5...</td>\n",
       "      <td>2422</td>\n",
       "      <td>3344</td>\n",
       "      <td>8d6dea06a032</td>\n",
       "    </tr>\n",
       "    <tr>\n",
       "      <th>3</th>\n",
       "      <td>/kaggle/input/siim-covid19-detection/test/97c5...</td>\n",
       "      <td>1140</td>\n",
       "      <td>1387</td>\n",
       "      <td>dfc5c09a50bc</td>\n",
       "    </tr>\n",
       "    <tr>\n",
       "      <th>4</th>\n",
       "      <td>/kaggle/input/siim-covid19-detection/test/593c...</td>\n",
       "      <td>2318</td>\n",
       "      <td>2383</td>\n",
       "      <td>7230234e120a</td>\n",
       "    </tr>\n",
       "  </tbody>\n",
       "</table>\n",
       "</div>"
      ],
      "text/plain": [
       "                                            filepath     w     h            id\n",
       "0  /kaggle/input/siim-covid19-detection/test/2fb1...  2320  2828  a29c5a68b07b\n",
       "1  /kaggle/input/siim-covid19-detection/test/19c6...  2330  2382  9850b5470fd6\n",
       "2  /kaggle/input/siim-covid19-detection/test/2fc5...  2422  3344  8d6dea06a032\n",
       "3  /kaggle/input/siim-covid19-detection/test/97c5...  1140  1387  dfc5c09a50bc\n",
       "4  /kaggle/input/siim-covid19-detection/test/593c...  2318  2383  7230234e120a"
      ]
     },
     "execution_count": 46,
     "metadata": {},
     "output_type": "execute_result"
    }
   ],
   "source": [
    "meta.head()"
   ]
  },
  {
   "cell_type": "code",
   "execution_count": null,
   "id": "7f62cefc",
   "metadata": {
    "papermill": {
     "duration": 0.120829,
     "end_time": "2021-08-10T10:43:13.270335",
     "exception": false,
     "start_time": "2021-08-10T10:43:13.149506",
     "status": "completed"
    },
    "tags": []
   },
   "outputs": [],
   "source": []
  },
  {
   "cell_type": "code",
   "execution_count": 47,
   "id": "c2758828",
   "metadata": {
    "execution": {
     "iopub.execute_input": "2021-08-10T10:43:13.554320Z",
     "iopub.status.busy": "2021-08-10T10:43:13.552800Z",
     "iopub.status.idle": "2021-08-10T10:43:26.158965Z",
     "shell.execute_reply": "2021-08-10T10:43:26.158435Z",
     "shell.execute_reply.started": "2021-08-10T09:53:32.726326Z"
    },
    "papermill": {
     "duration": 12.771773,
     "end_time": "2021-08-10T10:43:26.159107",
     "exception": false,
     "start_time": "2021-08-10T10:43:13.387334",
     "status": "completed"
    },
    "tags": []
   },
   "outputs": [
    {
     "name": "stderr",
     "output_type": "stream",
     "text": [
      "/opt/conda/lib/python3.7/site-packages/ipykernel/ipkernel.py:283: DeprecationWarning: `should_run_async` will not call `transform_cell` automatically in the future. Please pass the result to `transformed_cell` argument and any exception that happen during thetransform in `preprocessing_exc_tuple` in IPython 7.17 and above.\n",
      "  and should_run_async(code)\n"
     ]
    },
    {
     "name": "stdout",
     "output_type": "stream",
     "text": [
      "\u001b[34m\u001b[1mdetect: \u001b[0mweights=['../input/weights-of-yolov5-150-epochs/best.pt'], source=/kaggle/tmp/test, imgsz=512, conf_thres=0.001, iou_thres=0.5, max_det=50, device=, view_img=False, save_txt=True, save_conf=True, save_crop=False, nosave=False, classes=None, agnostic_nms=False, augment=True, visualize=False, update=False, project=runs/detect, name=exp, exist_ok=True, line_thickness=3, hide_labels=False, hide_conf=False, half=False\r\n",
      "\u001b[31m\u001b[1mrequirements:\u001b[0m /kaggle/working/requirements.txt not found, check failed.\r\n",
      "image 1/5 /kaggle/tmp/test/7230234e120a.png: 512x512 24 0. opacitys, Done. (0.104s)\r\n",
      "image 2/5 /kaggle/tmp/test/8d6dea06a032.png: 512x512 34 0. opacitys, Done. (0.083s)\r\n",
      "image 3/5 /kaggle/tmp/test/9850b5470fd6.png: 512x512 41 0. opacitys, Done. (0.083s)\r\n",
      "image 4/5 /kaggle/tmp/test/a29c5a68b07b.png: 512x512 18 0. opacitys, Done. (0.082s)\r\n",
      "image 5/5 /kaggle/tmp/test/dfc5c09a50bc.png: 512x512 35 0. opacitys, Done. (0.084s)\r\n",
      "Results saved to runs/detect/exp\r\n",
      "5 labels saved to runs/detect/exp/labels\r\n",
      "Done. (0.691s)\r\n"
     ]
    }
   ],
   "source": [
    "!python /kaggle/tmp/yolov5/detect.py --weights {MODEL_PATH}\\\n",
    "--img 512\\\n",
    "--conf {CONF_SCORE}\\\n",
    "--iou 0.5\\\n",
    "--augment\\\n",
    "--max 50\\\n",
    "--source {TEST_PATH}\\\n",
    "--save-txt --save-conf --exist-ok"
   ]
  },
  {
   "cell_type": "code",
   "execution_count": 48,
   "id": "a7293cf8",
   "metadata": {
    "execution": {
     "iopub.execute_input": "2021-08-10T10:43:26.402911Z",
     "iopub.status.busy": "2021-08-10T10:43:26.402219Z",
     "iopub.status.idle": "2021-08-10T10:43:26.405105Z",
     "shell.execute_reply": "2021-08-10T10:43:26.404691Z",
     "shell.execute_reply.started": "2021-08-10T09:58:53.278548Z"
    },
    "papermill": {
     "duration": 0.125603,
     "end_time": "2021-08-10T10:43:26.405213",
     "exception": false,
     "start_time": "2021-08-10T10:43:26.279610",
     "status": "completed"
    },
    "tags": []
   },
   "outputs": [],
   "source": [
    "PRED_PATH = 'runs/detect/exp/labels/'\n",
    "prediction_files = os.listdir(PRED_PATH)"
   ]
  },
  {
   "cell_type": "code",
   "execution_count": 49,
   "id": "66a74755",
   "metadata": {
    "execution": {
     "iopub.execute_input": "2021-08-10T10:43:26.645195Z",
     "iopub.status.busy": "2021-08-10T10:43:26.644430Z",
     "iopub.status.idle": "2021-08-10T10:43:26.647375Z",
     "shell.execute_reply": "2021-08-10T10:43:26.647760Z",
     "shell.execute_reply.started": "2021-08-08T09:38:33.823872Z"
    },
    "papermill": {
     "duration": 0.124275,
     "end_time": "2021-08-10T10:43:26.647884",
     "exception": false,
     "start_time": "2021-08-10T10:43:26.523609",
     "status": "completed"
    },
    "tags": []
   },
   "outputs": [],
   "source": [
    "#prediction_files"
   ]
  },
  {
   "cell_type": "code",
   "execution_count": 50,
   "id": "a464b567",
   "metadata": {
    "execution": {
     "iopub.execute_input": "2021-08-10T10:43:26.895670Z",
     "iopub.status.busy": "2021-08-10T10:43:26.894011Z",
     "iopub.status.idle": "2021-08-10T10:43:26.897166Z",
     "shell.execute_reply": "2021-08-10T10:43:26.896701Z",
     "shell.execute_reply.started": "2021-08-10T09:59:07.045018Z"
    },
    "papermill": {
     "duration": 0.130182,
     "end_time": "2021-08-10T10:43:26.897316",
     "exception": false,
     "start_time": "2021-08-10T10:43:26.767134",
     "status": "completed"
    },
    "tags": []
   },
   "outputs": [],
   "source": [
    "def yolo2voc(image_height, image_width, bboxes):\n",
    "\n",
    "    bboxes = bboxes.copy().astype(float)\n",
    "\n",
    "    bboxes[..., [0, 2]] = bboxes[..., [0, 2]]* image_width\n",
    "    bboxes[..., [1, 3]] = bboxes[..., [1, 3]]* image_height\n",
    "\n",
    "    bboxes[..., [0, 1]] = bboxes[..., [0, 1]] - bboxes[..., [2, 3]]/2\n",
    "    bboxes[..., [2, 3]] = bboxes[..., [0, 1]] + bboxes[..., [2, 3]]\n",
    "\n",
    "    return bboxes"
   ]
  },
  {
   "cell_type": "code",
   "execution_count": 51,
   "id": "46998e95",
   "metadata": {
    "execution": {
     "iopub.execute_input": "2021-08-10T10:43:27.140859Z",
     "iopub.status.busy": "2021-08-10T10:43:27.140139Z",
     "iopub.status.idle": "2021-08-10T10:43:27.142421Z",
     "shell.execute_reply": "2021-08-10T10:43:27.142873Z",
     "shell.execute_reply.started": "2021-08-10T09:59:16.521837Z"
    },
    "papermill": {
     "duration": 0.126324,
     "end_time": "2021-08-10T10:43:27.142990",
     "exception": false,
     "start_time": "2021-08-10T10:43:27.016666",
     "status": "completed"
    },
    "tags": []
   },
   "outputs": [],
   "source": [
    "def get_conf_bboxes(file_path):\n",
    "    confidence = []\n",
    "    bboxes = []\n",
    "    with open(file_path, 'r') as file:\n",
    "        for line in file:\n",
    "            preds = line.strip('\\n').split(' ')\n",
    "            preds = list(map(float, preds))\n",
    "            confidence.append(preds[-1])\n",
    "            bboxes.append(preds[1:-1])\n",
    "    return confidence, bboxes"
   ]
  },
  {
   "cell_type": "code",
   "execution_count": 52,
   "id": "f38d89b6",
   "metadata": {
    "execution": {
     "iopub.execute_input": "2021-08-10T10:43:27.393806Z",
     "iopub.status.busy": "2021-08-10T10:43:27.392926Z",
     "iopub.status.idle": "2021-08-10T10:43:29.255849Z",
     "shell.execute_reply": "2021-08-10T10:43:29.254574Z",
     "shell.execute_reply.started": "2021-08-10T10:18:13.216736Z"
    },
    "papermill": {
     "duration": 1.994719,
     "end_time": "2021-08-10T10:43:29.256056",
     "exception": false,
     "start_time": "2021-08-10T10:43:27.261337",
     "status": "completed"
    },
    "tags": []
   },
   "outputs": [
    {
     "name": "stderr",
     "output_type": "stream",
     "text": [
      "  0%|          | 0/5 [00:00<?, ?it/s]/kaggle/working/mmdetection/mmdet/core/anchor/anchor_generator.py:323: UserWarning: ``grid_anchors`` would be deprecated soon. Please use ``grid_priors`` \n",
      "  warnings.warn('``grid_anchors`` would be deprecated soon. '\n",
      "/kaggle/working/mmdetection/mmdet/core/anchor/anchor_generator.py:360: UserWarning: ``single_level_grid_anchors`` would be deprecated soon. Please use ``single_level_grid_priors`` \n",
      "  '``single_level_grid_anchors`` would be deprecated soon. '\n",
      " 20%|██        | 1/5 [00:01<00:05,  1.25s/it]/kaggle/working/mmdetection/mmdet/core/anchor/anchor_generator.py:323: UserWarning: ``grid_anchors`` would be deprecated soon. Please use ``grid_priors`` \n",
      "  warnings.warn('``grid_anchors`` would be deprecated soon. '\n",
      "/kaggle/working/mmdetection/mmdet/core/anchor/anchor_generator.py:360: UserWarning: ``single_level_grid_anchors`` would be deprecated soon. Please use ``single_level_grid_priors`` \n",
      "  '``single_level_grid_anchors`` would be deprecated soon. '\n",
      " 40%|████      | 2/5 [00:01<00:01,  1.66it/s]"
     ]
    },
    {
     "name": "stdout",
     "output_type": "stream",
     "text": [
      "52\n",
      "28\n"
     ]
    },
    {
     "name": "stderr",
     "output_type": "stream",
     "text": [
      " 80%|████████  | 4/5 [00:01<00:00,  3.35it/s]"
     ]
    },
    {
     "name": "stdout",
     "output_type": "stream",
     "text": [
      "62\n",
      "38\n"
     ]
    },
    {
     "name": "stderr",
     "output_type": "stream",
     "text": [
      "100%|██████████| 5/5 [00:01<00:00,  2.70it/s]"
     ]
    },
    {
     "name": "stdout",
     "output_type": "stream",
     "text": [
      "53\n"
     ]
    },
    {
     "name": "stderr",
     "output_type": "stream",
     "text": [
      "\n"
     ]
    }
   ],
   "source": [
    "ids = []\n",
    "\n",
    "fin_predict = [] \n",
    "with torch.no_grad(): \n",
    "    for file_path in tqdm(glob(PRED_PATH+'*.txt')): \n",
    "        ############### yolo part ################ \n",
    "        image_id = file_path.split('/')[-1].split('.')[0] \n",
    "        ids.append(image_id) \n",
    "        w, h = meta.loc[meta.id==image_id, ['w', 'h']].values[0] \n",
    "        yolo_conf, yolo_bboxes = get_conf_bboxes(file_path)\n",
    "\n",
    "        ########### cascade_rnn part ############\n",
    "        im_path = TEST_PATH + '/' + image_id + '.png'\n",
    "        predictions = inference_detector(model, im_path)\n",
    "        crnn_bboxes, crnn_conf = [], []\n",
    "\n",
    "        for k, pred in enumerate(predictions):\n",
    "            if pred.size != 0:\n",
    "                if len(crnn_conf) == 0:\n",
    "                    crnn_bboxes = np.array(pred[:, :4])\n",
    "                    crnn_conf = np.array(pred[:, 4])\n",
    "\n",
    "                else:\n",
    "                    crnn_bboxes = np.concatenate((crnn_bboxes, np.array(pred[:, :4])))\n",
    "                    crnn_conf = np.concatenate((crnn_bboxes, np.array(pred[:, 4])))\n",
    "\n",
    "        indexes = np.where(crnn_conf > CONF_SCORE)\n",
    "        \n",
    "        crnn_bboxes = crnn_bboxes[indexes]\n",
    "        crnn_conf = crnn_conf[indexes]\n",
    "\n",
    "        yolo_classes = np.zeros(len(yolo_conf))\n",
    "        crnn_classes = np.zeros(len(crnn_conf))\n",
    "        \n",
    "        # change yolo format to [x1, y1, x2, y2]\n",
    "        yolo_bboxes = np.array(yolo_bboxes)\n",
    "        yolo_bboxes = yolo2voc(h, w, yolo_bboxes)\n",
    "        \n",
    "        # scale cascade rnn pred bboxes\n",
    "        h_ratio = h/512\n",
    "        w_ratio = w/512\n",
    "        \n",
    "        crnn_bboxes[:, [0, 2]] *= w_ratio\n",
    "        crnn_bboxes[:, [1, 3]] *= h_ratio\n",
    "        \n",
    "        SCALED_VALUE = 10000\n",
    "        \n",
    "        yolo_bboxes /= SCALED_VALUE\n",
    "        crnn_bboxes /= SCALED_VALUE\n",
    "        \n",
    "        \n",
    "        bboxes, confidences, labels = weighted_boxes_fusion(boxes_list=[yolo_bboxes, crnn_bboxes],\n",
    "                                                            scores_list=[yolo_conf, crnn_conf],\n",
    "                                                            labels_list=[yolo_classes, crnn_classes],\n",
    "                                                            iou_thr = 0.6)\n",
    "        #print(len(bboxes))\n",
    "        #if len(bboxes) > 50:\n",
    "            #bboxes = bboxes[:50]\n",
    "            #confidences = confidences[:50]\n",
    "            #labels = labels[:50]\n",
    "        print(len(bboxes))\n",
    "        bboxes = np.round(bboxes*SCALED_VALUE).astype(int)\n",
    "        pred_string = ''\n",
    "        for j, conf in enumerate(confidences):\n",
    "            pred_string += f'opacity {conf} ' + ' '.join(map(str, bboxes[j])) + ' '\n",
    "        fin_predict.append(pred_string[:-1])"
   ]
  },
  {
   "cell_type": "code",
   "execution_count": 53,
   "id": "3413eb4a",
   "metadata": {
    "execution": {
     "iopub.execute_input": "2021-08-10T10:43:29.522740Z",
     "iopub.status.busy": "2021-08-10T10:43:29.522043Z",
     "iopub.status.idle": "2021-08-10T10:43:29.525232Z",
     "shell.execute_reply": "2021-08-10T10:43:29.525821Z"
    },
    "papermill": {
     "duration": 0.134236,
     "end_time": "2021-08-10T10:43:29.526012",
     "exception": false,
     "start_time": "2021-08-10T10:43:29.391776",
     "status": "completed"
    },
    "tags": []
   },
   "outputs": [
    {
     "name": "stderr",
     "output_type": "stream",
     "text": [
      "/opt/conda/lib/python3.7/site-packages/ipykernel/ipkernel.py:283: DeprecationWarning: `should_run_async` will not call `transform_cell` automatically in the future. Please pass the result to `transformed_cell` argument and any exception that happen during thetransform in `preprocessing_exc_tuple` in IPython 7.17 and above.\n",
      "  and should_run_async(code)\n"
     ]
    }
   ],
   "source": [
    "#sub_df.head()"
   ]
  },
  {
   "cell_type": "code",
   "execution_count": 54,
   "id": "95180480",
   "metadata": {
    "execution": {
     "iopub.execute_input": "2021-08-10T10:43:29.805972Z",
     "iopub.status.busy": "2021-08-10T10:43:29.805217Z",
     "iopub.status.idle": "2021-08-10T10:43:29.808927Z",
     "shell.execute_reply": "2021-08-10T10:43:29.808478Z",
     "shell.execute_reply.started": "2021-08-10T10:18:30.163236Z"
    },
    "papermill": {
     "duration": 0.150512,
     "end_time": "2021-08-10T10:43:29.809032",
     "exception": false,
     "start_time": "2021-08-10T10:43:29.658520",
     "status": "completed"
    },
    "tags": []
   },
   "outputs": [
    {
     "data": {
      "text/html": [
       "<div>\n",
       "<style scoped>\n",
       "    .dataframe tbody tr th:only-of-type {\n",
       "        vertical-align: middle;\n",
       "    }\n",
       "\n",
       "    .dataframe tbody tr th {\n",
       "        vertical-align: top;\n",
       "    }\n",
       "\n",
       "    .dataframe thead th {\n",
       "        text-align: right;\n",
       "    }\n",
       "</style>\n",
       "<table border=\"1\" class=\"dataframe\">\n",
       "  <thead>\n",
       "    <tr style=\"text-align: right;\">\n",
       "      <th></th>\n",
       "      <th>id</th>\n",
       "      <th>PredictionString</th>\n",
       "    </tr>\n",
       "  </thead>\n",
       "  <tbody>\n",
       "    <tr>\n",
       "      <th>0</th>\n",
       "      <td>dfc5c09a50bc_image</td>\n",
       "      <td>opacity 0.3846456706523895 716 412 928 935 opa...</td>\n",
       "    </tr>\n",
       "    <tr>\n",
       "      <th>1</th>\n",
       "      <td>a29c5a68b07b_image</td>\n",
       "      <td>opacity 0.6888105869293213 1547 825 2229 2318 ...</td>\n",
       "    </tr>\n",
       "    <tr>\n",
       "      <th>2</th>\n",
       "      <td>9850b5470fd6_image</td>\n",
       "      <td>opacity 0.4906483292579651 290 693 984 1933 op...</td>\n",
       "    </tr>\n",
       "    <tr>\n",
       "      <th>3</th>\n",
       "      <td>7230234e120a_image</td>\n",
       "      <td>opacity 0.571875274181366 1390 1190 2106 1946 ...</td>\n",
       "    </tr>\n",
       "    <tr>\n",
       "      <th>4</th>\n",
       "      <td>8d6dea06a032_image</td>\n",
       "      <td>opacity 0.453635036945343 1495 1168 1967 2396 ...</td>\n",
       "    </tr>\n",
       "  </tbody>\n",
       "</table>\n",
       "</div>"
      ],
      "text/plain": [
       "                   id                                   PredictionString\n",
       "0  dfc5c09a50bc_image  opacity 0.3846456706523895 716 412 928 935 opa...\n",
       "1  a29c5a68b07b_image  opacity 0.6888105869293213 1547 825 2229 2318 ...\n",
       "2  9850b5470fd6_image  opacity 0.4906483292579651 290 693 984 1933 op...\n",
       "3  7230234e120a_image  opacity 0.571875274181366 1390 1190 2106 1946 ...\n",
       "4  8d6dea06a032_image  opacity 0.453635036945343 1495 1168 1967 2396 ..."
      ]
     },
     "execution_count": 54,
     "metadata": {},
     "output_type": "execute_result"
    }
   ],
   "source": [
    "image_df = pd.DataFrame(data={'id': ids, 'PredictionString': fin_predict})\n",
    "image_df['id'] = image_df.id.apply(lambda x: x + '_image')\n",
    "image_df.head()"
   ]
  },
  {
   "cell_type": "code",
   "execution_count": 55,
   "id": "b5de22bd",
   "metadata": {
    "execution": {
     "iopub.execute_input": "2021-08-10T10:43:30.069305Z",
     "iopub.status.busy": "2021-08-10T10:43:30.068602Z",
     "iopub.status.idle": "2021-08-10T10:43:30.084939Z",
     "shell.execute_reply": "2021-08-10T10:43:30.085459Z",
     "shell.execute_reply.started": "2021-08-10T10:18:37.315522Z"
    },
    "papermill": {
     "duration": 0.150251,
     "end_time": "2021-08-10T10:43:30.085629",
     "exception": false,
     "start_time": "2021-08-10T10:43:29.935378",
     "status": "completed"
    },
    "tags": []
   },
   "outputs": [
    {
     "name": "stderr",
     "output_type": "stream",
     "text": [
      "/opt/conda/lib/python3.7/site-packages/ipykernel/ipkernel.py:283: DeprecationWarning: `should_run_async` will not call `transform_cell` automatically in the future. Please pass the result to `transformed_cell` argument and any exception that happen during thetransform in `preprocessing_exc_tuple` in IPython 7.17 and above.\n",
      "  and should_run_async(code)\n"
     ]
    },
    {
     "data": {
      "text/html": [
       "<div>\n",
       "<style scoped>\n",
       "    .dataframe tbody tr th:only-of-type {\n",
       "        vertical-align: middle;\n",
       "    }\n",
       "\n",
       "    .dataframe tbody tr th {\n",
       "        vertical-align: top;\n",
       "    }\n",
       "\n",
       "    .dataframe thead th {\n",
       "        text-align: right;\n",
       "    }\n",
       "</style>\n",
       "<table border=\"1\" class=\"dataframe\">\n",
       "  <thead>\n",
       "    <tr style=\"text-align: right;\">\n",
       "      <th></th>\n",
       "      <th>id</th>\n",
       "      <th>PredictionString</th>\n",
       "      <th>none</th>\n",
       "    </tr>\n",
       "  </thead>\n",
       "  <tbody>\n",
       "    <tr>\n",
       "      <th>0</th>\n",
       "      <td>dfc5c09a50bc_image</td>\n",
       "      <td>opacity 0.3846456706523895 716 412 928 935 opa...</td>\n",
       "      <td>0.356122</td>\n",
       "    </tr>\n",
       "    <tr>\n",
       "      <th>1</th>\n",
       "      <td>a29c5a68b07b_image</td>\n",
       "      <td>opacity 0.6888105869293213 1547 825 2229 2318 ...</td>\n",
       "      <td>0.058766</td>\n",
       "    </tr>\n",
       "    <tr>\n",
       "      <th>2</th>\n",
       "      <td>9850b5470fd6_image</td>\n",
       "      <td>opacity 0.4906483292579651 290 693 984 1933 op...</td>\n",
       "      <td>0.096071</td>\n",
       "    </tr>\n",
       "    <tr>\n",
       "      <th>3</th>\n",
       "      <td>7230234e120a_image</td>\n",
       "      <td>opacity 0.571875274181366 1390 1190 2106 1946 ...</td>\n",
       "      <td>0.062900</td>\n",
       "    </tr>\n",
       "    <tr>\n",
       "      <th>4</th>\n",
       "      <td>8d6dea06a032_image</td>\n",
       "      <td>opacity 0.453635036945343 1495 1168 1967 2396 ...</td>\n",
       "      <td>0.133567</td>\n",
       "    </tr>\n",
       "  </tbody>\n",
       "</table>\n",
       "</div>"
      ],
      "text/plain": [
       "                   id                                   PredictionString  \\\n",
       "0  dfc5c09a50bc_image  opacity 0.3846456706523895 716 412 928 935 opa...   \n",
       "1  a29c5a68b07b_image  opacity 0.6888105869293213 1547 825 2229 2318 ...   \n",
       "2  9850b5470fd6_image  opacity 0.4906483292579651 290 693 984 1933 op...   \n",
       "3  7230234e120a_image  opacity 0.571875274181366 1390 1190 2106 1946 ...   \n",
       "4  8d6dea06a032_image  opacity 0.453635036945343 1495 1168 1967 2396 ...   \n",
       "\n",
       "       none  \n",
       "0  0.356122  \n",
       "1  0.058766  \n",
       "2  0.096071  \n",
       "3  0.062900  \n",
       "4  0.133567  "
      ]
     },
     "execution_count": 55,
     "metadata": {},
     "output_type": "execute_result"
    }
   ],
   "source": [
    "image_df = image_df.merge(sub_df, on='id', how='left')\n",
    "image_df.head()"
   ]
  },
  {
   "cell_type": "code",
   "execution_count": 56,
   "id": "f2a1cd8b",
   "metadata": {
    "execution": {
     "iopub.execute_input": "2021-08-10T10:43:30.362234Z",
     "iopub.status.busy": "2021-08-10T10:43:30.361304Z",
     "iopub.status.idle": "2021-08-10T10:43:30.367333Z",
     "shell.execute_reply": "2021-08-10T10:43:30.366944Z",
     "shell.execute_reply.started": "2021-08-10T10:19:00.579605Z"
    },
    "papermill": {
     "duration": 0.143314,
     "end_time": "2021-08-10T10:43:30.367449",
     "exception": false,
     "start_time": "2021-08-10T10:43:30.224135",
     "status": "completed"
    },
    "tags": []
   },
   "outputs": [
    {
     "name": "stderr",
     "output_type": "stream",
     "text": [
      "/opt/conda/lib/python3.7/site-packages/ipykernel/ipkernel.py:283: DeprecationWarning: `should_run_async` will not call `transform_cell` automatically in the future. Please pass the result to `transformed_cell` argument and any exception that happen during thetransform in `preprocessing_exc_tuple` in IPython 7.17 and above.\n",
      "  and should_run_async(code)\n"
     ]
    }
   ],
   "source": [
    "for i in range(len(image_df)):\n",
    "    image_df.loc[i, 'PredictionString'] = image_df.loc[i, 'PredictionString'] + ' none ' + str(image_df.loc[i, 'none'])+ ' 0 0 1 1'"
   ]
  },
  {
   "cell_type": "code",
   "execution_count": 57,
   "id": "2f7e9427",
   "metadata": {
    "execution": {
     "iopub.execute_input": "2021-08-10T10:43:30.647463Z",
     "iopub.status.busy": "2021-08-10T10:43:30.646345Z",
     "iopub.status.idle": "2021-08-10T10:43:30.649691Z",
     "shell.execute_reply": "2021-08-10T10:43:30.650387Z",
     "shell.execute_reply.started": "2021-08-10T10:19:15.984080Z"
    },
    "papermill": {
     "duration": 0.151096,
     "end_time": "2021-08-10T10:43:30.650575",
     "exception": false,
     "start_time": "2021-08-10T10:43:30.499479",
     "status": "completed"
    },
    "tags": []
   },
   "outputs": [
    {
     "data": {
      "text/html": [
       "<div>\n",
       "<style scoped>\n",
       "    .dataframe tbody tr th:only-of-type {\n",
       "        vertical-align: middle;\n",
       "    }\n",
       "\n",
       "    .dataframe tbody tr th {\n",
       "        vertical-align: top;\n",
       "    }\n",
       "\n",
       "    .dataframe thead th {\n",
       "        text-align: right;\n",
       "    }\n",
       "</style>\n",
       "<table border=\"1\" class=\"dataframe\">\n",
       "  <thead>\n",
       "    <tr style=\"text-align: right;\">\n",
       "      <th></th>\n",
       "      <th>id</th>\n",
       "      <th>PredictionString</th>\n",
       "    </tr>\n",
       "  </thead>\n",
       "  <tbody>\n",
       "    <tr>\n",
       "      <th>0</th>\n",
       "      <td>dfc5c09a50bc_image</td>\n",
       "      <td>opacity 0.3846456706523895 716 412 928 935 opa...</td>\n",
       "    </tr>\n",
       "    <tr>\n",
       "      <th>1</th>\n",
       "      <td>a29c5a68b07b_image</td>\n",
       "      <td>opacity 0.6888105869293213 1547 825 2229 2318 ...</td>\n",
       "    </tr>\n",
       "    <tr>\n",
       "      <th>2</th>\n",
       "      <td>9850b5470fd6_image</td>\n",
       "      <td>opacity 0.4906483292579651 290 693 984 1933 op...</td>\n",
       "    </tr>\n",
       "    <tr>\n",
       "      <th>3</th>\n",
       "      <td>7230234e120a_image</td>\n",
       "      <td>opacity 0.571875274181366 1390 1190 2106 1946 ...</td>\n",
       "    </tr>\n",
       "    <tr>\n",
       "      <th>4</th>\n",
       "      <td>8d6dea06a032_image</td>\n",
       "      <td>opacity 0.453635036945343 1495 1168 1967 2396 ...</td>\n",
       "    </tr>\n",
       "  </tbody>\n",
       "</table>\n",
       "</div>"
      ],
      "text/plain": [
       "                   id                                   PredictionString\n",
       "0  dfc5c09a50bc_image  opacity 0.3846456706523895 716 412 928 935 opa...\n",
       "1  a29c5a68b07b_image  opacity 0.6888105869293213 1547 825 2229 2318 ...\n",
       "2  9850b5470fd6_image  opacity 0.4906483292579651 290 693 984 1933 op...\n",
       "3  7230234e120a_image  opacity 0.571875274181366 1390 1190 2106 1946 ...\n",
       "4  8d6dea06a032_image  opacity 0.453635036945343 1495 1168 1967 2396 ..."
      ]
     },
     "execution_count": 57,
     "metadata": {},
     "output_type": "execute_result"
    }
   ],
   "source": [
    "image_df = image_df[['id', 'PredictionString']]\n",
    "image_df.head()"
   ]
  },
  {
   "cell_type": "code",
   "execution_count": 58,
   "id": "10747945",
   "metadata": {
    "execution": {
     "iopub.execute_input": "2021-08-10T10:43:30.919397Z",
     "iopub.status.busy": "2021-08-10T10:43:30.918495Z",
     "iopub.status.idle": "2021-08-10T10:43:30.924488Z",
     "shell.execute_reply": "2021-08-10T10:43:30.923687Z",
     "shell.execute_reply.started": "2021-08-10T10:24:54.084160Z"
    },
    "papermill": {
     "duration": 0.141689,
     "end_time": "2021-08-10T10:43:30.924634",
     "exception": false,
     "start_time": "2021-08-10T10:43:30.782945",
     "status": "completed"
    },
    "tags": []
   },
   "outputs": [
    {
     "name": "stderr",
     "output_type": "stream",
     "text": [
      "/opt/conda/lib/python3.7/site-packages/ipykernel/ipkernel.py:283: DeprecationWarning: `should_run_async` will not call `transform_cell` automatically in the future. Please pass the result to `transformed_cell` argument and any exception that happen during thetransform in `preprocessing_exc_tuple` in IPython 7.17 and above.\n",
      "  and should_run_async(code)\n"
     ]
    },
    {
     "data": {
      "text/html": [
       "<div>\n",
       "<style scoped>\n",
       "    .dataframe tbody tr th:only-of-type {\n",
       "        vertical-align: middle;\n",
       "    }\n",
       "\n",
       "    .dataframe tbody tr th {\n",
       "        vertical-align: top;\n",
       "    }\n",
       "\n",
       "    .dataframe thead th {\n",
       "        text-align: right;\n",
       "    }\n",
       "</style>\n",
       "<table border=\"1\" class=\"dataframe\">\n",
       "  <thead>\n",
       "    <tr style=\"text-align: right;\">\n",
       "      <th></th>\n",
       "      <th>id</th>\n",
       "      <th>PredictionString</th>\n",
       "    </tr>\n",
       "  </thead>\n",
       "  <tbody>\n",
       "    <tr>\n",
       "      <th>0</th>\n",
       "      <td>2fb11712bc93_study</td>\n",
       "      <td>negative 0.002 0 0 1 1     typical 0.948 0 0 1...</td>\n",
       "    </tr>\n",
       "    <tr>\n",
       "      <th>1</th>\n",
       "      <td>19c66935e737_study</td>\n",
       "      <td>negative 0.025 0 0 1 1     typical 0.748 0 0 1...</td>\n",
       "    </tr>\n",
       "    <tr>\n",
       "      <th>2</th>\n",
       "      <td>2fc50bf199cd_study</td>\n",
       "      <td>negative 0.020 0 0 1 1     typical 0.810 0 0 1...</td>\n",
       "    </tr>\n",
       "    <tr>\n",
       "      <th>3</th>\n",
       "      <td>97c5d6eb413d_study</td>\n",
       "      <td>negative 0.096 0 0 1 1     typical 0.608 0 0 1...</td>\n",
       "    </tr>\n",
       "    <tr>\n",
       "      <th>4</th>\n",
       "      <td>593c3f815635_study</td>\n",
       "      <td>negative 0.001 0 0 1 1     typical 0.710 0 0 1...</td>\n",
       "    </tr>\n",
       "  </tbody>\n",
       "</table>\n",
       "</div>"
      ],
      "text/plain": [
       "                   id                                   PredictionString\n",
       "0  2fb11712bc93_study  negative 0.002 0 0 1 1     typical 0.948 0 0 1...\n",
       "1  19c66935e737_study  negative 0.025 0 0 1 1     typical 0.748 0 0 1...\n",
       "2  2fc50bf199cd_study  negative 0.020 0 0 1 1     typical 0.810 0 0 1...\n",
       "3  97c5d6eb413d_study  negative 0.096 0 0 1 1     typical 0.608 0 0 1...\n",
       "4  593c3f815635_study  negative 0.001 0 0 1 1     typical 0.710 0 0 1..."
      ]
     },
     "execution_count": 58,
     "metadata": {},
     "output_type": "execute_result"
    }
   ],
   "source": [
    "study_df.head()"
   ]
  },
  {
   "cell_type": "code",
   "execution_count": 59,
   "id": "a79dc705",
   "metadata": {
    "execution": {
     "iopub.execute_input": "2021-08-10T10:43:31.202865Z",
     "iopub.status.busy": "2021-08-10T10:43:31.201922Z",
     "iopub.status.idle": "2021-08-10T10:43:31.209223Z",
     "shell.execute_reply": "2021-08-10T10:43:31.208768Z",
     "shell.execute_reply.started": "2021-08-10T10:30:33.459415Z"
    },
    "papermill": {
     "duration": 0.144959,
     "end_time": "2021-08-10T10:43:31.209324",
     "exception": false,
     "start_time": "2021-08-10T10:43:31.064365",
     "status": "completed"
    },
    "tags": []
   },
   "outputs": [
    {
     "name": "stderr",
     "output_type": "stream",
     "text": [
      "/opt/conda/lib/python3.7/site-packages/ipykernel/ipkernel.py:283: DeprecationWarning: `should_run_async` will not call `transform_cell` automatically in the future. Please pass the result to `transformed_cell` argument and any exception that happen during thetransform in `preprocessing_exc_tuple` in IPython 7.17 and above.\n",
      "  and should_run_async(code)\n"
     ]
    }
   ],
   "source": [
    "if fast_sub:\n",
    "    final_df = pd.concat([study_df.sort_values(by=['id']), image_df])\n",
    "    final_df.to_csv('/kaggle/working/submission.csv', index=False)\n",
    "else:\n",
    "    df = pd.read_csv('../input/siim-covid19-detection/sample_submission.csv')\n",
    "    for i in tqdm(range(df.shape[0])):\n",
    "        level = df.loc[i, 'id'].split('_')[1]\n",
    "        im_id = df.loc[i, 'id']\n",
    "        if level == 'study':\n",
    "            df.loc[i, 'PredictionString'] = study_df[study_df.id==im_id]['PredictionString'].values[0]\n",
    "        elif level == 'image':\n",
    "            df.loc[i, 'PredictionString'] = image_df[image_df.id==im_id]['PredictionString'].values[0]\n",
    "    df.to_csv('/kaggle/working/submission.csv', index=False)"
   ]
  },
  {
   "cell_type": "code",
   "execution_count": 60,
   "id": "9d594524",
   "metadata": {
    "execution": {
     "iopub.execute_input": "2021-08-10T10:43:31.477077Z",
     "iopub.status.busy": "2021-08-10T10:43:31.476229Z",
     "iopub.status.idle": "2021-08-10T10:43:31.646082Z",
     "shell.execute_reply": "2021-08-10T10:43:31.645465Z",
     "shell.execute_reply.started": "2021-08-10T10:30:41.097916Z"
    },
    "papermill": {
     "duration": 0.305233,
     "end_time": "2021-08-10T10:43:31.646317",
     "exception": false,
     "start_time": "2021-08-10T10:43:31.341084",
     "status": "completed"
    },
    "tags": []
   },
   "outputs": [],
   "source": [
    "import shutil\n",
    "shutil.rmtree('/kaggle/tmp/')\n",
    "shutil.rmtree('/kaggle/working/gdcm')\n",
    "shutil.rmtree('/kaggle/working/mmdetection')\n",
    "shutil.rmtree('/kaggle/working/runs')"
   ]
  }
 ],
 "metadata": {
  "kernelspec": {
   "display_name": "Python 3",
   "language": "python",
   "name": "python3"
  },
  "language_info": {
   "codemirror_mode": {
    "name": "ipython",
    "version": 3
   },
   "file_extension": ".py",
   "mimetype": "text/x-python",
   "name": "python",
   "nbconvert_exporter": "python",
   "pygments_lexer": "ipython3",
   "version": "3.7.10"
  },
  "papermill": {
   "default_parameters": {},
   "duration": 748.01479,
   "end_time": "2021-08-10T10:43:35.312100",
   "environment_variables": {},
   "exception": null,
   "input_path": "__notebook__.ipynb",
   "output_path": "__notebook__.ipynb",
   "parameters": {},
   "start_time": "2021-08-10T10:31:07.297310",
   "version": "2.3.3"
  }
 },
 "nbformat": 4,
 "nbformat_minor": 5
}
