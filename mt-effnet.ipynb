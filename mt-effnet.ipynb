{
 "cells": [
  {
   "cell_type": "code",
   "execution_count": 1,
   "id": "143171ab",
   "metadata": {
    "_cell_guid": "b1076dfc-b9ad-4769-8c92-a6c4dae69d19",
    "_uuid": "8f2839f25d086af736a60e9eeb907d3b93b6e0e5",
    "execution": {
     "iopub.execute_input": "2021-08-03T14:20:11.379845Z",
     "iopub.status.busy": "2021-08-03T14:20:11.378274Z",
     "iopub.status.idle": "2021-08-03T14:20:40.209621Z",
     "shell.execute_reply": "2021-08-03T14:20:40.209022Z"
    },
    "papermill": {
     "duration": 28.85045,
     "end_time": "2021-08-03T14:20:40.209770",
     "exception": false,
     "start_time": "2021-08-03T14:20:11.359320",
     "status": "completed"
    },
    "tags": []
   },
   "outputs": [
    {
     "name": "stdout",
     "output_type": "stream",
     "text": [
      "gdcm/\r\n",
      "gdcm/conda-4.8.4-py37hc8dfbb8_2.tar.bz2\r\n",
      "gdcm/gdcm-2.8.9-py37h71b2a6d_0.tar.bz2\r\n",
      "gdcm/libjpeg-turbo-2.0.3-h516909a_1.tar.bz2\r\n",
      "\r\n",
      "Downloading and Extracting Packages\r\n",
      "######################################################################## | 100% \r\n",
      "Preparing transaction: - \b\bdone\r\n",
      "Verifying transaction: | \b\b/ \b\bdone\r\n",
      "Executing transaction: \\ \b\bdone\r\n"
     ]
    }
   ],
   "source": [
    "!cp /kaggle/input/gdcm-conda-install/gdcm.tar .\n",
    "!tar -xvzf gdcm.tar\n",
    "!conda install --offline ./gdcm/gdcm-2.8.9-py37h71b2a6d_0.tar.bz2\n",
    "!rm -rf ./gdcm.tar"
   ]
  },
  {
   "cell_type": "code",
   "execution_count": 2,
   "id": "d5c64b57",
   "metadata": {
    "execution": {
     "iopub.execute_input": "2021-08-03T14:20:40.244543Z",
     "iopub.status.busy": "2021-08-03T14:20:40.243317Z",
     "iopub.status.idle": "2021-08-03T14:20:46.091233Z",
     "shell.execute_reply": "2021-08-03T14:20:46.090680Z"
    },
    "papermill": {
     "duration": 5.865742,
     "end_time": "2021-08-03T14:20:46.091388",
     "exception": false,
     "start_time": "2021-08-03T14:20:40.225646",
     "status": "completed"
    },
    "tags": []
   },
   "outputs": [],
   "source": [
    "import sys\n",
    "sys.path.append('/kaggle/input/efficientnet-keras-dataset/efficientnet_kaggle')\n",
    "import efficientnet.tfkeras as efn"
   ]
  },
  {
   "cell_type": "code",
   "execution_count": 3,
   "id": "a76dc1fa",
   "metadata": {
    "execution": {
     "iopub.execute_input": "2021-08-03T14:20:46.129451Z",
     "iopub.status.busy": "2021-08-03T14:20:46.128813Z",
     "iopub.status.idle": "2021-08-03T14:20:46.477792Z",
     "shell.execute_reply": "2021-08-03T14:20:46.477280Z"
    },
    "papermill": {
     "duration": 0.369758,
     "end_time": "2021-08-03T14:20:46.477966",
     "exception": false,
     "start_time": "2021-08-03T14:20:46.108208",
     "status": "completed"
    },
    "tags": []
   },
   "outputs": [],
   "source": [
    "import numpy as np\n",
    "import pandas as pd\n",
    "import tensorflow as tf\n",
    "from glob import glob\n",
    "import gc\n",
    "from tqdm import tqdm\n",
    "import pydicom\n",
    "from pydicom.pixel_data_handlers.util import apply_voi_lut\n",
    "from tensorflow.keras import Model, Sequential\n",
    "import cv2\n",
    "import math\n",
    "from PIL import Image\n",
    "from shutil import copytree\n",
    "from tensorflow.keras import Model \n",
    "from tensorflow.keras import layers"
   ]
  },
  {
   "cell_type": "code",
   "execution_count": 4,
   "id": "dffc7e7c",
   "metadata": {
    "execution": {
     "iopub.execute_input": "2021-08-03T14:20:46.518290Z",
     "iopub.status.busy": "2021-08-03T14:20:46.517651Z",
     "iopub.status.idle": "2021-08-03T14:20:46.522019Z",
     "shell.execute_reply": "2021-08-03T14:20:46.521506Z"
    },
    "papermill": {
     "duration": 0.027575,
     "end_time": "2021-08-03T14:20:46.522146",
     "exception": false,
     "start_time": "2021-08-03T14:20:46.494571",
     "status": "completed"
    },
    "tags": []
   },
   "outputs": [],
   "source": [
    "def dicom2array(path, voi_lut=True, fix_monochrome=True, yolo=False):\n",
    "    dicom = pydicom.read_file(path)\n",
    "    if voi_lut:\n",
    "        data = apply_voi_lut(dicom.pixel_array, dicom)\n",
    "    else:\n",
    "        data = dicom.pixel_array\n",
    "    if fix_monochrome and dicom.PhotometricInterpretation == \"MONOCHROME1\":\n",
    "        data = np.amax(data) - data\n",
    "    data = data - np.min(data)\n",
    "    data = data / np.max(data)\n",
    "    data = (data * 255).astype(np.uint8)\n",
    "    if yolo:\n",
    "        return data\n",
    "    image = cv2.cvtColor(data, cv2.COLOR_GRAY2RGB)\n",
    "    return image"
   ]
  },
  {
   "cell_type": "code",
   "execution_count": 5,
   "id": "74c080b2",
   "metadata": {
    "execution": {
     "iopub.execute_input": "2021-08-03T14:20:46.557743Z",
     "iopub.status.busy": "2021-08-03T14:20:46.557199Z",
     "iopub.status.idle": "2021-08-03T14:20:52.934351Z",
     "shell.execute_reply": "2021-08-03T14:20:52.934808Z"
    },
    "papermill": {
     "duration": 6.397012,
     "end_time": "2021-08-03T14:20:52.935026",
     "exception": false,
     "start_time": "2021-08-03T14:20:46.538014",
     "status": "completed"
    },
    "tags": []
   },
   "outputs": [
    {
     "data": {
      "text/html": [
       "<div>\n",
       "<style scoped>\n",
       "    .dataframe tbody tr th:only-of-type {\n",
       "        vertical-align: middle;\n",
       "    }\n",
       "\n",
       "    .dataframe tbody tr th {\n",
       "        vertical-align: top;\n",
       "    }\n",
       "\n",
       "    .dataframe thead th {\n",
       "        text-align: right;\n",
       "    }\n",
       "</style>\n",
       "<table border=\"1\" class=\"dataframe\">\n",
       "  <thead>\n",
       "    <tr style=\"text-align: right;\">\n",
       "      <th></th>\n",
       "      <th>filepath</th>\n",
       "      <th>image_id</th>\n",
       "      <th>study_id</th>\n",
       "    </tr>\n",
       "  </thead>\n",
       "  <tbody>\n",
       "    <tr>\n",
       "      <th>0</th>\n",
       "      <td>/kaggle/input/siim-covid19-detection/test/0018...</td>\n",
       "      <td>3dcdfc352a06_image</td>\n",
       "      <td>00188a671292_study</td>\n",
       "    </tr>\n",
       "    <tr>\n",
       "      <th>1</th>\n",
       "      <td>/kaggle/input/siim-covid19-detection/test/004b...</td>\n",
       "      <td>c39146cbda47_image</td>\n",
       "      <td>004bd59708be_study</td>\n",
       "    </tr>\n",
       "    <tr>\n",
       "      <th>2</th>\n",
       "      <td>/kaggle/input/siim-covid19-detection/test/0050...</td>\n",
       "      <td>951211f8e1bb_image</td>\n",
       "      <td>00508faccd39_study</td>\n",
       "    </tr>\n",
       "    <tr>\n",
       "      <th>3</th>\n",
       "      <td>/kaggle/input/siim-covid19-detection/test/0064...</td>\n",
       "      <td>5e0e7acd9c7d_image</td>\n",
       "      <td>006486aa80b2_study</td>\n",
       "    </tr>\n",
       "    <tr>\n",
       "      <th>4</th>\n",
       "      <td>/kaggle/input/siim-covid19-detection/test/0065...</td>\n",
       "      <td>5b8ee5baa1d5_image</td>\n",
       "      <td>00655178fdfc_study</td>\n",
       "    </tr>\n",
       "  </tbody>\n",
       "</table>\n",
       "</div>"
      ],
      "text/plain": [
       "                                            filepath            image_id  \\\n",
       "0  /kaggle/input/siim-covid19-detection/test/0018...  3dcdfc352a06_image   \n",
       "1  /kaggle/input/siim-covid19-detection/test/004b...  c39146cbda47_image   \n",
       "2  /kaggle/input/siim-covid19-detection/test/0050...  951211f8e1bb_image   \n",
       "3  /kaggle/input/siim-covid19-detection/test/0064...  5e0e7acd9c7d_image   \n",
       "4  /kaggle/input/siim-covid19-detection/test/0065...  5b8ee5baa1d5_image   \n",
       "\n",
       "             study_id  \n",
       "0  00188a671292_study  \n",
       "1  004bd59708be_study  \n",
       "2  00508faccd39_study  \n",
       "3  006486aa80b2_study  \n",
       "4  00655178fdfc_study  "
      ]
     },
     "execution_count": 5,
     "metadata": {},
     "output_type": "execute_result"
    }
   ],
   "source": [
    "filepaths = glob('/kaggle/input/siim-covid19-detection/test/**/*dcm',recursive=True)\n",
    "test_df = pd.DataFrame(data={'filepath': sorted(filepaths)})\n",
    "test_df['image_id'] = test_df.filepath.map(lambda x: x.split('/')[-1].replace('.dcm', '')+'_image')\n",
    "test_df['study_id'] = test_df.filepath.map(lambda x: x.split('/')[-3].replace('.dcm', '')+'_study')\n",
    "test_df.head()"
   ]
  },
  {
   "cell_type": "code",
   "execution_count": 6,
   "id": "924dfd71",
   "metadata": {
    "execution": {
     "iopub.execute_input": "2021-08-03T14:20:52.977250Z",
     "iopub.status.busy": "2021-08-03T14:20:52.975786Z",
     "iopub.status.idle": "2021-08-03T14:20:52.978384Z",
     "shell.execute_reply": "2021-08-03T14:20:52.978906Z"
    },
    "papermill": {
     "duration": 0.026067,
     "end_time": "2021-08-03T14:20:52.979045",
     "exception": false,
     "start_time": "2021-08-03T14:20:52.952978",
     "status": "completed"
    },
    "tags": []
   },
   "outputs": [],
   "source": [
    "def image_process(image_array, image_size=(600, 600)):\n",
    "    image = tf.cast(image_array, tf.float32) / 255.\n",
    "    image = tf.image.resize(image, image_size)\n",
    "    return image"
   ]
  },
  {
   "cell_type": "code",
   "execution_count": 7,
   "id": "299e8540",
   "metadata": {
    "execution": {
     "iopub.execute_input": "2021-08-03T14:20:53.015907Z",
     "iopub.status.busy": "2021-08-03T14:20:53.015256Z",
     "iopub.status.idle": "2021-08-03T14:20:53.019460Z",
     "shell.execute_reply": "2021-08-03T14:20:53.019066Z"
    },
    "papermill": {
     "duration": 0.022916,
     "end_time": "2021-08-03T14:20:53.019565",
     "exception": false,
     "start_time": "2021-08-03T14:20:52.996649",
     "status": "completed"
    },
    "tags": []
   },
   "outputs": [],
   "source": [
    "def apply_augmentation(image):\n",
    "    image = tf.image.random_flip_up_down(image)\n",
    "    image = tf.image.random_flip_left_right(image)\n",
    "    return image"
   ]
  },
  {
   "cell_type": "code",
   "execution_count": 8,
   "id": "5f829e4f",
   "metadata": {
    "execution": {
     "iopub.execute_input": "2021-08-03T14:20:53.055804Z",
     "iopub.status.busy": "2021-08-03T14:20:53.054509Z",
     "iopub.status.idle": "2021-08-03T14:20:53.057598Z",
     "shell.execute_reply": "2021-08-03T14:20:53.057161Z"
    },
    "papermill": {
     "duration": 0.022219,
     "end_time": "2021-08-03T14:20:53.057712",
     "exception": false,
     "start_time": "2021-08-03T14:20:53.035493",
     "status": "completed"
    },
    "tags": []
   },
   "outputs": [],
   "source": [
    "BATCH_SIZE = 32"
   ]
  },
  {
   "cell_type": "code",
   "execution_count": 9,
   "id": "a9792acc",
   "metadata": {
    "execution": {
     "iopub.execute_input": "2021-08-03T14:20:53.101544Z",
     "iopub.status.busy": "2021-08-03T14:20:53.100700Z",
     "iopub.status.idle": "2021-08-03T14:20:53.103353Z",
     "shell.execute_reply": "2021-08-03T14:20:53.102838Z"
    },
    "papermill": {
     "duration": 0.02796,
     "end_time": "2021-08-03T14:20:53.103453",
     "exception": false,
     "start_time": "2021-08-03T14:20:53.075493",
     "status": "completed"
    },
    "tags": []
   },
   "outputs": [],
   "source": [
    "class TestDataGenerator(tf.keras.utils.Sequence):\n",
    "    def __init__(self, image_paths, TTA=None, batch_size=BATCH_SIZE):\n",
    "        self.image_paths = image_paths\n",
    "        self.batch_size = BATCH_SIZE\n",
    "        self.TTA = TTA\n",
    "        \n",
    "    def __len__(self):\n",
    "        return math.ceil(len(self.image_paths) / self.batch_size)\n",
    "    \n",
    "    def __getitem__(self, indx):\n",
    "        images = self.image_paths[indx*self.batch_size:(indx+1)*self.batch_size]\n",
    "        images_batch = np.array(list(map(dicom2array, images)))\n",
    "        images_batch = np.array(list(map(image_process, images_batch)))\n",
    "        if self.TTA:\n",
    "            images_batch = np.array(list(map(apply_augmentation, images_batch)))\n",
    "        return images_batch"
   ]
  },
  {
   "cell_type": "code",
   "execution_count": 10,
   "id": "585d7b4f",
   "metadata": {
    "execution": {
     "iopub.execute_input": "2021-08-03T14:20:53.140735Z",
     "iopub.status.busy": "2021-08-03T14:20:53.140027Z",
     "iopub.status.idle": "2021-08-03T14:21:08.701711Z",
     "shell.execute_reply": "2021-08-03T14:21:08.701093Z"
    },
    "papermill": {
     "duration": 15.582432,
     "end_time": "2021-08-03T14:21:08.701901",
     "exception": false,
     "start_time": "2021-08-03T14:20:53.119469",
     "status": "completed"
    },
    "tags": []
   },
   "outputs": [],
   "source": [
    "model = tf.keras.Sequential([\n",
    "    efn.EfficientNetB7(\n",
    "        input_shape=(600, 600, 3),\n",
    "        weights='imagenet',\n",
    "        include_top=False),\n",
    "    tf.keras.layers.GlobalAveragePooling2D(),\n",
    "    tf.keras.layers.Dense(4, activation='softmax')\n",
    "])"
   ]
  },
  {
   "cell_type": "code",
   "execution_count": 11,
   "id": "ed4c063b",
   "metadata": {
    "execution": {
     "iopub.execute_input": "2021-08-03T14:21:08.740997Z",
     "iopub.status.busy": "2021-08-03T14:21:08.739659Z",
     "iopub.status.idle": "2021-08-03T14:21:08.742008Z",
     "shell.execute_reply": "2021-08-03T14:21:08.742558Z"
    },
    "papermill": {
     "duration": 0.023084,
     "end_time": "2021-08-03T14:21:08.742682",
     "exception": false,
     "start_time": "2021-08-03T14:21:08.719598",
     "status": "completed"
    },
    "tags": []
   },
   "outputs": [],
   "source": [
    "test_dataset = TestDataGenerator(test_df.filepath.tolist())"
   ]
  },
  {
   "cell_type": "code",
   "execution_count": 12,
   "id": "1432653c",
   "metadata": {
    "execution": {
     "iopub.execute_input": "2021-08-03T14:21:08.779783Z",
     "iopub.status.busy": "2021-08-03T14:21:08.779043Z",
     "iopub.status.idle": "2021-08-03T14:57:42.895855Z",
     "shell.execute_reply": "2021-08-03T14:57:42.894062Z"
    },
    "papermill": {
     "duration": 2194.137012,
     "end_time": "2021-08-03T14:57:42.896097",
     "exception": false,
     "start_time": "2021-08-03T14:21:08.759085",
     "status": "completed"
    },
    "tags": []
   },
   "outputs": [
    {
     "name": "stderr",
     "output_type": "stream",
     "text": [
      "  0%|          | 0/5 [00:00<?, ?it/s]/opt/conda/lib/python3.7/site-packages/ipykernel_launcher.py:12: VisibleDeprecationWarning: Creating an ndarray from ragged nested sequences (which is a list-or-tuple of lists-or-tuples-or ndarrays with different lengths or shapes) is deprecated. If you meant to do this, you must specify 'dtype=object' when creating the ndarray\n",
      "  if sys.path[0] == '':\n",
      "100%|██████████| 5/5 [36:34<00:00, 438.82s/it]\n"
     ]
    }
   ],
   "source": [
    "num_folds = 5\n",
    "predict = []\n",
    "for i in tqdm(range(num_folds)):\n",
    "    model_path = f'../input/slim-weights-effnet/model{i}.h5'\n",
    "    model.load_weights(model_path)\n",
    "    pred = model.predict(test_dataset)\n",
    "    predict.append(pred)\n",
    "    del pred \n",
    "    gc.collect()\n",
    "predictions = np.mean(predict, axis=0)"
   ]
  },
  {
   "cell_type": "code",
   "execution_count": 13,
   "id": "2a9c2750",
   "metadata": {
    "execution": {
     "iopub.execute_input": "2021-08-03T14:57:43.195670Z",
     "iopub.status.busy": "2021-08-03T14:57:43.194700Z",
     "iopub.status.idle": "2021-08-03T14:57:43.432919Z",
     "shell.execute_reply": "2021-08-03T14:57:43.433399Z"
    },
    "papermill": {
     "duration": 0.514567,
     "end_time": "2021-08-03T14:57:43.433560",
     "exception": false,
     "start_time": "2021-08-03T14:57:42.918993",
     "status": "completed"
    },
    "tags": []
   },
   "outputs": [
    {
     "data": {
      "text/plain": [
       "76587"
      ]
     },
     "execution_count": 13,
     "metadata": {},
     "output_type": "execute_result"
    }
   ],
   "source": [
    "del test_dataset, predict, model\n",
    "gc.collect()"
   ]
  },
  {
   "cell_type": "code",
   "execution_count": 14,
   "id": "60be87af",
   "metadata": {
    "execution": {
     "iopub.execute_input": "2021-08-03T14:57:43.489318Z",
     "iopub.status.busy": "2021-08-03T14:57:43.488283Z",
     "iopub.status.idle": "2021-08-03T14:57:43.491416Z",
     "shell.execute_reply": "2021-08-03T14:57:43.490934Z"
    },
    "papermill": {
     "duration": 0.036622,
     "end_time": "2021-08-03T14:57:43.491556",
     "exception": false,
     "start_time": "2021-08-03T14:57:43.454934",
     "status": "completed"
    },
    "tags": []
   },
   "outputs": [],
   "source": [
    "class CovidNet(Model):\n",
    "    def __init__(self):\n",
    "        super(CovidNet, self).__init__()\n",
    "        self.base = efn.EfficientNetB1(input_shape=(512, 512, 3),\n",
    "                                                  include_top=False,\n",
    "                                                  weights='imagenet')\n",
    "\n",
    "        self.base = Model(\n",
    "                [self.base.inputs], \n",
    "                [self.base.get_layer('top_activation').output, self.base.output]\n",
    "            )\n",
    "        \n",
    "\n",
    "        self.tail = Sequential(\n",
    "            [\n",
    "                layers.GlobalAveragePooling2D(),\n",
    "                layers.Dropout(0.2),\n",
    "                layers.BatchNormalization(),\n",
    "                layers.Dense(4),\n",
    "                layers.Softmax()\n",
    "            ]\n",
    "        )\n",
    "        \n",
    "\n",
    "        self.msk = Sequential(\n",
    "            [\n",
    "                layers.Conv2D(filters=512, kernel_size=(1, 1), \n",
    "                              strides=(1, 1), padding=\"same\"),\n",
    "                layers.ReLU(),\n",
    "                layers.BatchNormalization(),\n",
    "                layers.Conv2D(filters=1, kernel_size=(1,1), padding=\"same\")\n",
    "            ]\n",
    "        )\n",
    "\n",
    "    def call(self, inputs, training=None, **kwargs):\n",
    "        segg, clss = self.base(inputs['input'])\n",
    "\n",
    "        return {\n",
    "            'clss': self.tail(clss), \n",
    "            'segg': self.msk(segg)\n",
    "        }"
   ]
  },
  {
   "cell_type": "code",
   "execution_count": 15,
   "id": "716add9b",
   "metadata": {
    "execution": {
     "iopub.execute_input": "2021-08-03T14:57:43.547134Z",
     "iopub.status.busy": "2021-08-03T14:57:43.546097Z",
     "iopub.status.idle": "2021-08-03T14:57:43.548857Z",
     "shell.execute_reply": "2021-08-03T14:57:43.548356Z"
    },
    "papermill": {
     "duration": 0.035067,
     "end_time": "2021-08-03T14:57:43.549039",
     "exception": false,
     "start_time": "2021-08-03T14:57:43.513972",
     "status": "completed"
    },
    "tags": []
   },
   "outputs": [],
   "source": [
    "class TestDataGenerator(tf.keras.utils.Sequence):\n",
    "    def __init__(self, image_paths, TTA=None, batch_size=BATCH_SIZE):\n",
    "        self.image_paths = image_paths\n",
    "        self.batch_size = BATCH_SIZE\n",
    "        self.TTA = TTA\n",
    "        \n",
    "    def __len__(self):\n",
    "        return math.ceil(len(self.image_paths) / self.batch_size)\n",
    "    \n",
    "    def __getitem__(self, indx):\n",
    "        images = self.image_paths[indx*self.batch_size:(indx+1)*self.batch_size]\n",
    "        images_batch = np.array(list(map(dicom2array, images)))\n",
    "        \n",
    "        def image_process(image_array, image_size=(512, 512)):\n",
    "            image = tf.cast(image_array, tf.float32) / 255.\n",
    "            image = tf.image.resize(image, image_size)\n",
    "            return image\n",
    "        \n",
    "        images_batch = np.array(list(map(image_process, images_batch)))\n",
    "        if self.TTA:\n",
    "            images_batch = np.array(list(map(apply_augmentation, images_batch)))\n",
    "        return {'input': images_batch}"
   ]
  },
  {
   "cell_type": "code",
   "execution_count": 16,
   "id": "31c0e9ff",
   "metadata": {
    "execution": {
     "iopub.execute_input": "2021-08-03T14:57:43.599377Z",
     "iopub.status.busy": "2021-08-03T14:57:43.598328Z",
     "iopub.status.idle": "2021-08-03T14:57:43.601399Z",
     "shell.execute_reply": "2021-08-03T14:57:43.600917Z"
    },
    "papermill": {
     "duration": 0.030014,
     "end_time": "2021-08-03T14:57:43.601539",
     "exception": false,
     "start_time": "2021-08-03T14:57:43.571525",
     "status": "completed"
    },
    "tags": []
   },
   "outputs": [],
   "source": [
    "test_dataset = TestDataGenerator(test_df.filepath.tolist())"
   ]
  },
  {
   "cell_type": "code",
   "execution_count": 17,
   "id": "a46ac966",
   "metadata": {
    "execution": {
     "iopub.execute_input": "2021-08-03T14:57:43.654499Z",
     "iopub.status.busy": "2021-08-03T14:57:43.653532Z",
     "iopub.status.idle": "2021-08-03T14:57:48.328328Z",
     "shell.execute_reply": "2021-08-03T14:57:48.329065Z"
    },
    "papermill": {
     "duration": 4.704842,
     "end_time": "2021-08-03T14:57:48.329248",
     "exception": false,
     "start_time": "2021-08-03T14:57:43.624406",
     "status": "completed"
    },
    "tags": []
   },
   "outputs": [
    {
     "name": "stdout",
     "output_type": "stream",
     "text": [
      "Model: \"covid_net\"\n",
      "_________________________________________________________________\n",
      "Layer (type)                 Output Shape              Param #   \n",
      "=================================================================\n",
      "model (Functional)           [(None, 16, 16, 1280), (N 6575232   \n",
      "_________________________________________________________________\n",
      "sequential_1 (Sequential)    (None, 4)                 10244     \n",
      "_________________________________________________________________\n",
      "sequential_2 (Sequential)    (None, 16, 16, 1)         658433    \n",
      "=================================================================\n",
      "Total params: 7,243,909\n",
      "Trainable params: 7,178,277\n",
      "Non-trainable params: 65,632\n",
      "_________________________________________________________________\n"
     ]
    }
   ],
   "source": [
    "model = CovidNet()\n",
    "model.build(input_shape={'input': (None, 512, 512, 3)})\n",
    "model.summary()"
   ]
  },
  {
   "cell_type": "code",
   "execution_count": 18,
   "id": "143d6bd5",
   "metadata": {
    "execution": {
     "iopub.execute_input": "2021-08-03T14:57:48.385307Z",
     "iopub.status.busy": "2021-08-03T14:57:48.384483Z",
     "iopub.status.idle": "2021-08-03T15:19:25.718546Z",
     "shell.execute_reply": "2021-08-03T15:19:25.717199Z"
    },
    "papermill": {
     "duration": 1297.36642,
     "end_time": "2021-08-03T15:19:25.718683",
     "exception": false,
     "start_time": "2021-08-03T14:57:48.352263",
     "status": "completed"
    },
    "tags": []
   },
   "outputs": [
    {
     "name": "stderr",
     "output_type": "stream",
     "text": [
      "  0%|          | 0/3 [00:00<?, ?it/s]/opt/conda/lib/python3.7/site-packages/ipykernel_launcher.py:12: VisibleDeprecationWarning: Creating an ndarray from ragged nested sequences (which is a list-or-tuple of lists-or-tuples-or ndarrays with different lengths or shapes) is deprecated. If you meant to do this, you must specify 'dtype=object' when creating the ndarray\n",
      "  if sys.path[0] == '':\n",
      "100%|██████████| 3/3 [21:37<00:00, 432.43s/it]\n"
     ]
    }
   ],
   "source": [
    "num_folds = 3\n",
    "predict = []\n",
    "for i in tqdm(range(num_folds)):\n",
    "    model_path = f'../input/mt-weights/auxloss{i}.h5'\n",
    "    model.load_weights(model_path)\n",
    "    pred = model.predict(test_dataset)['clss']\n",
    "    predict.append(pred)\n",
    "    del pred \n",
    "    gc.collect()\n",
    "mt_predictions = np.mean(predict, axis=0)"
   ]
  },
  {
   "cell_type": "code",
   "execution_count": 19,
   "id": "a03c947e",
   "metadata": {
    "execution": {
     "iopub.execute_input": "2021-08-03T15:19:25.767970Z",
     "iopub.status.busy": "2021-08-03T15:19:25.766788Z",
     "iopub.status.idle": "2021-08-03T15:19:25.769060Z",
     "shell.execute_reply": "2021-08-03T15:19:25.769452Z"
    },
    "papermill": {
     "duration": 0.030003,
     "end_time": "2021-08-03T15:19:25.769577",
     "exception": false,
     "start_time": "2021-08-03T15:19:25.739574",
     "status": "completed"
    },
    "tags": []
   },
   "outputs": [],
   "source": [
    "final_pred = np.mean([predictions,mt_predictions], axis=0)"
   ]
  },
  {
   "cell_type": "code",
   "execution_count": 20,
   "id": "04877690",
   "metadata": {
    "execution": {
     "iopub.execute_input": "2021-08-03T15:19:25.835769Z",
     "iopub.status.busy": "2021-08-03T15:19:25.835266Z",
     "iopub.status.idle": "2021-08-03T15:19:26.267793Z",
     "shell.execute_reply": "2021-08-03T15:19:26.267359Z"
    },
    "papermill": {
     "duration": 0.477333,
     "end_time": "2021-08-03T15:19:26.267935",
     "exception": false,
     "start_time": "2021-08-03T15:19:25.790602",
     "status": "completed"
    },
    "tags": []
   },
   "outputs": [
    {
     "name": "stderr",
     "output_type": "stream",
     "text": [
      "100%|██████████| 1263/1263 [00:00<00:00, 3265.90it/s]\n"
     ]
    }
   ],
   "source": [
    "data = {'id': test_df.study_id.tolist()}\n",
    "study_df = pd.DataFrame(data=data)\n",
    "study_df['PredictionString'] = None\n",
    "for i in tqdm(range(final_pred.shape[0])):\n",
    "    study_df.loc[i, 'PredictionString'] = f'negative {final_pred[i][0]:0.3f} 0 0 1 1 \\\n",
    "    typical {final_pred[i][1]:0.3f} 0 0 1 1 \\\n",
    "    indeterminate {final_pred[i][2]:0.3f} 0 0 1 1 \\\n",
    "    atypical {final_pred[i][3]:0.3f} 0 0 1 1'\n",
    "\n",
    "study_df.sort_values(by=['id'])\n",
    "image_df = pd.DataFrame({'id':test_df.image_id.tolist(),\n",
    "                         'PredictionString':[\"none 1 0 0 1 1\"]*len(test_df.image_id.tolist())})\n",
    "study_df = study_df.drop_duplicates(subset=['id'])\n",
    "final_df = pd.concat([study_df.sort_values(by=['id']), image_df])\n",
    "final_df.to_csv('submission.csv', index=False)"
   ]
  }
 ],
 "metadata": {
  "kernelspec": {
   "display_name": "Python 3",
   "language": "python",
   "name": "python3"
  },
  "language_info": {
   "codemirror_mode": {
    "name": "ipython",
    "version": 3
   },
   "file_extension": ".py",
   "mimetype": "text/x-python",
   "name": "python",
   "nbconvert_exporter": "python",
   "pygments_lexer": "ipython3",
   "version": "3.7.10"
  },
  "papermill": {
   "default_parameters": {},
   "duration": 3565.791464,
   "end_time": "2021-08-03T15:19:29.454073",
   "environment_variables": {},
   "exception": null,
   "input_path": "__notebook__.ipynb",
   "output_path": "__notebook__.ipynb",
   "parameters": {},
   "start_time": "2021-08-03T14:20:03.662609",
   "version": "2.3.3"
  }
 },
 "nbformat": 4,
 "nbformat_minor": 5
}
